{
 "cells": [
  {
   "cell_type": "code",
   "execution_count": 40,
   "metadata": {},
   "outputs": [],
   "source": [
    "import pandas as pd\n",
    "import pickle\n",
    "import yaml\n",
    "from tableone import TableOne, load_dataset\n",
    "import matplotlib.pyplot as plt\n",
    "import seaborn as sns\n",
    "from pathlib import Path"
   ]
  },
  {
   "cell_type": "code",
   "execution_count": 41,
   "metadata": {},
   "outputs": [],
   "source": [
    "PROJECT_DIR = Path('/home/wonseok/PPFL')\n",
    "DATA_DIR = PROJECT_DIR.joinpath('data')\n",
    "CURDIR = Path.cwd()"
   ]
  },
  {
   "cell_type": "code",
   "execution_count": 45,
   "metadata": {},
   "outputs": [],
   "source": [
    "with open(DATA_DIR.joinpath('processed/feature_book.yaml')) as f:\n",
    "   feature_book = yaml.load(f, yaml.SafeLoader)\n",
    "   \n",
    "HICU = pd.read_feather(DATA_DIR.joinpath('processed','HICU.feather'))\n",
    "MICU = pd.read_feather(DATA_DIR.joinpath('processed','MICU.feather'))\n",
    "SICU = pd.read_feather(DATA_DIR.joinpath('processed','SICU.feather'))\n",
    "\n",
    "HICU = HICU[feature_book['id_and_outcome'] + feature_book['common_features']]\n",
    "MICU = MICU[feature_book['id_and_outcome'] + feature_book['common_features']]\n",
    "SICU = SICU[feature_book['id_and_outcome'] + feature_book['common_features']]\n",
    "\n",
    "HICU = HICU.drop(columns = '연구등록번호')\n",
    "MICU = MICU.drop(columns = '연구등록번호')\n",
    "SICU = SICU.drop(columns = '연구등록번호')\n",
    "\n",
    "HICU['ICU'] = 'HICU'\n",
    "MICU['ICU'] = 'MICU'\n",
    "SICU['ICU'] = 'SICU'\n",
    "\n",
    "all_table = pd.concat([HICU, MICU, SICU], ignore_index=True)"
   ]
  },
  {
   "cell_type": "code",
   "execution_count": 46,
   "metadata": {},
   "outputs": [],
   "source": [
    "groupby = 'ICU'\n",
    "categorical = ['gender','death']"
   ]
  },
  {
   "cell_type": "code",
   "execution_count": 47,
   "metadata": {},
   "outputs": [
    {
     "name": "stderr",
     "output_type": "stream",
     "text": [
      "/home/wonseok/.pyenv/versions/3.7.6/envs/2022_fl_sanzabu37/lib/python3.7/site-packages/tableone/tableone.py:991: FutureWarning: Using the level keyword in DataFrame and Series aggregations is deprecated and will be removed in a future version. Use groupby instead. df.sum(level=1) should use df.groupby(level=1).sum().\n",
      "  df['percent'] = df['freq'].div(df.freq.sum(level=0),\n",
      "/home/wonseok/.pyenv/versions/3.7.6/envs/2022_fl_sanzabu37/lib/python3.7/site-packages/tableone/tableone.py:991: FutureWarning: Using the level keyword in DataFrame and Series aggregations is deprecated and will be removed in a future version. Use groupby instead. df.sum(level=1) should use df.groupby(level=1).sum().\n",
      "  df['percent'] = df['freq'].div(df.freq.sum(level=0),\n"
     ]
    }
   ],
   "source": [
    "my_table = TableOne(all_table, columns = all_table.columns.tolist(), categorical=categorical, groupby=groupby)"
   ]
  },
  {
   "cell_type": "code",
   "execution_count": 48,
   "metadata": {},
   "outputs": [
    {
     "name": "stdout",
     "output_type": "stream",
     "text": [
      "|                            |     | Missing   | Overall      | HICU         | MICU         | SICU         |\n",
      "|----------------------------|-----|-----------|--------------|--------------|--------------|--------------|\n",
      "| n                          |     |           | 30460        | 5266         | 14550        | 10644        |\n",
      "| death, n (%)               | 0.0 | 0         | 27256 (89.5) | 4898 (93.0)  | 12663 (87.0) | 9695 (91.1)  |\n",
      "|                            | 1.0 |           | 3204 (10.5)  | 368 (7.0)    | 1887 (13.0)  | 949 (8.9)    |\n",
      "| height, mean (SD)          |     | 0         | 168.5 (12.3) | 164.3 (11.6) | 169.0 (12.8) | 170.1 (11.5) |\n",
      "| heartrate, mean (SD)       |     | 0         | 97.2 (32.0)  | 72.8 (18.0)  | 103.1 (32.2) | 101.1 (31.7) |\n",
      "| weight, mean (SD)          |     | 0         | 80.9 (26.2)  | 66.5 (13.3)  | 83.8 (27.8)  | 84.0 (26.5)  |\n",
      "| creatinine, mean (SD)      |     | 0         | 1.7 (7.1)    | 4.0 (16.3)   | 1.3 (2.2)    | 1.1 (1.8)    |\n",
      "| bun, mean (SD)             |     | 0         | 22.6 (22.6)  | 18.4 (10.8)  | 26.0 (26.7)  | 20.1 (20.0)  |\n",
      "| temperature, mean (SD)     |     | 0         | 35.7 (5.6)   | 37.0 (0.5)   | 35.4 (6.0)   | 35.3 (6.3)   |\n",
      "| hct, mean (SD)             |     | 0         | 33.6 (6.4)   | 38.0 (5.4)   | 32.9 (6.4)   | 32.3 (6.0)   |\n",
      "| bp, mean (SD)              |     | 0         | 86.0 (39.5)  | 83.8 (13.3)  | 85.5 (42.7)  | 87.7 (43.3)  |\n",
      "| age, mean (SD)             |     | 0         | 63.2 (16.6)  | 65.0 (13.2)  | 63.1 (17.2)  | 62.3 (17.2)  |\n",
      "| gender, n (%)              | 0.0 | 0         | 13223 (43.4) | 1604 (30.5)  | 7017 (48.2)  | 4602 (43.2)  |\n",
      "|                            | 1.0 |           | 17237 (56.6) | 3662 (69.5)  | 7533 (51.8)  | 6042 (56.8)  |\n",
      "| sodium, mean (SD)          |     | 0         | 118.3 (48.2) | 137.7 (7.8)  | 113.5 (52.7) | 115.4 (50.8) |\n",
      "| rbc count, mean (SD)       |     | 0         | 3.7 (0.7)    | 4.1 (0.6)    | 3.7 (0.7)    | 3.6 (0.7)    |\n",
      "| potassium, mean (SD)       |     | 0         | 4.1 (0.7)    | 4.3 (1.4)    | 4.1 (0.5)    | 4.0 (0.4)    |\n",
      "| respiratoryrate, mean (SD) |     | 0         | 24.7 (14.5)  | 17.4 (4.1)   | 27.7 (15.3)  | 24.3 (15.2)  |\n"
     ]
    }
   ],
   "source": [
    "print(my_table.tabulate(tablefmt='github'))"
   ]
  }
 ],
 "metadata": {
  "kernelspec": {
   "display_name": "Python 3.7.6 64-bit ('2022_fl_sanzabu37')",
   "language": "python",
   "name": "python3"
  },
  "language_info": {
   "codemirror_mode": {
    "name": "ipython",
    "version": 3
   },
   "file_extension": ".py",
   "mimetype": "text/x-python",
   "name": "python",
   "nbconvert_exporter": "python",
   "pygments_lexer": "ipython3",
   "version": "3.7.6"
  },
  "orig_nbformat": 4,
  "vscode": {
   "interpreter": {
    "hash": "21d4bd457ec5a196e0bf7d878ea52147e53d5bfca977d442da49aa35c42376d4"
   }
  }
 },
 "nbformat": 4,
 "nbformat_minor": 2
}
