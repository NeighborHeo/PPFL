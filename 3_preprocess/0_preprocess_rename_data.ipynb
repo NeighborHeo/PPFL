{
 "cells": [
  {
   "cell_type": "code",
   "execution_count": null,
   "metadata": {},
   "outputs": [],
   "source": [
    "# In[ ]:\n",
    "# ** import package **\n",
    "import os\n",
    "import sys\n",
    "import json\n",
    "import pathlib\n",
    "sys.path.append(\"..\")\n",
    "\n",
    "import numpy as np\n",
    "import pandas as pd\n",
    "import matplotlib.pyplot as plt\n",
    "import traceback\n",
    "from tqdm import tqdm\n",
    "from datetime import timedelta\n",
    "from _utils.customlogger import customlogger as CL\n",
    "\n",
    "pd.set_option('display.max_colwidth', -1)  #각 컬럼 width 최대로 \n",
    "pd.set_option('display.max_rows', 50)      # display 50개 까지 "
   ]
  },
  {
   "cell_type": "code",
   "execution_count": null,
   "metadata": {},
   "outputs": [],
   "source": [
    "# In[ ]:\n",
    "# ** loading path info **\n",
    "current_dir = pathlib.Path.cwd()\n",
    "parent_dir = current_dir.parent\n",
    "curr_file_name = os.path.splitext(os.path.basename(os.path.abspath('')))[0]\n",
    "data_dir = pathlib.Path('{}/data/'.format(parent_dir))\n",
    "pathlib.Path.mkdir(data_dir, mode=0o777, parents=True, exist_ok=True)"
   ]
  },
  {
   "cell_type": "code",
   "execution_count": null,
   "metadata": {},
   "outputs": [],
   "source": [
    "# ** loading data **\n",
    "MICU_df = pd.read_feather('{}/MICU_df.feather'.format(data_dir))\n",
    "SICU_df = pd.read_feather('{}/SICU_df.feather'.format(data_dir))"
   ]
  },
  {
   "cell_type": "code",
   "execution_count": null,
   "metadata": {},
   "outputs": [],
   "source": [
    "# ** make to dict rename columns **\n",
    "eicu_mapping = pd.read_csv('eicu_mapping.csv')\n",
    "eicu_mapping.replace(['\\r\\n', '\\n'], '', inplace=True)\n",
    "eicu_mapping_diff = eicu_mapping[eicu_mapping['concept_name'] != eicu_mapping['feature_new_name']]\n",
    "rename_dict = dict(zip(eicu_mapping_diff.concept_name, eicu_mapping_diff.feature_new_name))\n",
    "print(rename_dict)\n",
    "\n",
    "# ** rename columns **\n",
    "MICU_df.rename(rename_dict, axis='columns', inplace=True)\n",
    "SICU_df.rename(rename_dict, axis='columns', inplace=True)"
   ]
  },
  {
   "cell_type": "code",
   "execution_count": null,
   "metadata": {},
   "outputs": [],
   "source": [
    "# ** calc Glasgow Coma Scale **\n",
    "def calculate_gcs(eyes, motor, verbal, meds):\n",
    "    if meds == 1:\n",
    "        return np.nan\n",
    "    return eyes + motor + verbal\n",
    "\n",
    "MICU_df.loc[:,'gcs'] = MICU_df.apply(lambda x: calculate_gcs(x['eyes'], x['motor'], x['verbal'], x['meds']), axis=1)\n",
    "MICU_df.drop(['eyes', 'motor', 'verbal', 'meds'], axis=1, inplace=True)\n",
    "\n",
    "SICU_df.loc[:,'gcs'] = SICU_df.apply(lambda x: calculate_gcs(x['eyes'], x['motor'], x['verbal'], x['meds']), axis=1)\n",
    "SICU_df.drop(['eyes', 'motor', 'verbal', 'meds'], axis=1, inplace=True)"
   ]
  },
  {
   "cell_type": "code",
   "execution_count": null,
   "metadata": {},
   "outputs": [],
   "source": [
    "# ** check duplicated columns **\n",
    "cols = list(SICU_df.columns)\n",
    "dup = [x for i, x in enumerate(cols) if i != cols.index(x)]\n",
    "dup"
   ]
  },
  {
   "cell_type": "code",
   "execution_count": null,
   "metadata": {},
   "outputs": [],
   "source": [
    "SICU_df.to_feather('{}/SICU_ps_df.feather'.format(data_dir))\n",
    "MICU_df.to_feather('{}/MICU_ps_df.feather'.format(data_dir))"
   ]
  },
  {
   "cell_type": "code",
   "execution_count": null,
   "metadata": {},
   "outputs": [],
   "source": []
  }
 ],
 "metadata": {
  "kernelspec": {
   "display_name": "Python 3.7.13 ('.venv': venv)",
   "language": "python",
   "name": "python3"
  },
  "language_info": {
   "codemirror_mode": {
    "name": "ipython",
    "version": 3
   },
   "file_extension": ".py",
   "mimetype": "text/x-python",
   "name": "python",
   "nbconvert_exporter": "python",
   "pygments_lexer": "ipython3",
   "version": "3.7.13"
  },
  "orig_nbformat": 4,
  "vscode": {
   "interpreter": {
    "hash": "7a70575124c56363ee4395af7154470fd9f328d39a4e988d33b1913ba4770f62"
   }
  }
 },
 "nbformat": 4,
 "nbformat_minor": 2
}
