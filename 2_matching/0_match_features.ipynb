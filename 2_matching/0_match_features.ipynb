{
 "cells": [
  {
   "cell_type": "code",
   "execution_count": 1,
   "metadata": {},
   "outputs": [],
   "source": [
    "import pickle\n",
    "import dask.dataframe as dd\n",
    "import pandas as pd"
   ]
  },
  {
   "cell_type": "code",
   "execution_count": 7,
   "metadata": {},
   "outputs": [],
   "source": [
    "eICU_features = set(pd.read_csv('../1_importsql/feature_df2.csv').concept_name)\n",
    "feature_eicu = pd.read_csv('feature_eicu.csv')\n",
    "feature_hicu = pd.read_csv('feature_hicu.csv')"
   ]
  },
  {
   "cell_type": "markdown",
   "metadata": {},
   "source": [
    "## 매칭 안되는 부분\n",
    "- drug : 세브란스에서 prescription은 쓸 수 없어서"
   ]
  },
  {
   "cell_type": "markdown",
   "metadata": {},
   "source": [
    "## 매칭\n",
    "- fuzzy algorithm 이용해서 비슷한 string에 대해서 매칭 진행하도록 한다."
   ]
  },
  {
   "cell_type": "code",
   "execution_count": 82,
   "metadata": {},
   "outputs": [
    {
     "data": {
      "text/plain": [
       "array(['lab', 'adm'], dtype=object)"
      ]
     },
     "execution_count": 82,
     "metadata": {},
     "output_type": "execute_result"
    }
   ],
   "source": [
    "feature_eicu.concept_table.unique()"
   ]
  },
  {
   "cell_type": "code",
   "execution_count": 75,
   "metadata": {},
   "outputs": [],
   "source": [
    "matching_field = feature_eicu[['concept_name']].merge(feature_hicu[['hicu_feature_english']], how='cross')"
   ]
  },
  {
   "cell_type": "code",
   "execution_count": 76,
   "metadata": {},
   "outputs": [
    {
     "data": {
      "text/html": [
       "<div>\n",
       "<style scoped>\n",
       "    .dataframe tbody tr th:only-of-type {\n",
       "        vertical-align: middle;\n",
       "    }\n",
       "\n",
       "    .dataframe tbody tr th {\n",
       "        vertical-align: top;\n",
       "    }\n",
       "\n",
       "    .dataframe thead th {\n",
       "        text-align: right;\n",
       "    }\n",
       "</style>\n",
       "<table border=\"1\" class=\"dataframe\">\n",
       "  <thead>\n",
       "    <tr style=\"text-align: right;\">\n",
       "      <th></th>\n",
       "      <th>concept_name</th>\n",
       "      <th>hicu_feature_english</th>\n",
       "    </tr>\n",
       "  </thead>\n",
       "  <tbody>\n",
       "    <tr>\n",
       "      <th>0</th>\n",
       "      <td>-bands</td>\n",
       "      <td>address1</td>\n",
       "    </tr>\n",
       "    <tr>\n",
       "      <th>1</th>\n",
       "      <td>-bands</td>\n",
       "      <td>bp</td>\n",
       "    </tr>\n",
       "    <tr>\n",
       "      <th>2</th>\n",
       "      <td>-bands</td>\n",
       "      <td>Creatinine</td>\n",
       "    </tr>\n",
       "    <tr>\n",
       "      <th>3</th>\n",
       "      <td>-bands</td>\n",
       "      <td>body surface area</td>\n",
       "    </tr>\n",
       "    <tr>\n",
       "      <th>4</th>\n",
       "      <td>-bands</td>\n",
       "      <td>heightZ</td>\n",
       "    </tr>\n",
       "  </tbody>\n",
       "</table>\n",
       "</div>"
      ],
      "text/plain": [
       "  concept_name hicu_feature_english\n",
       "0       -bands             address1\n",
       "1       -bands                   bp\n",
       "2       -bands           Creatinine\n",
       "3       -bands    body surface area\n",
       "4       -bands              heightZ"
      ]
     },
     "execution_count": 76,
     "metadata": {},
     "output_type": "execute_result"
    }
   ],
   "source": [
    "matching_field.head()"
   ]
  },
  {
   "cell_type": "code",
   "execution_count": 77,
   "metadata": {},
   "outputs": [],
   "source": [
    "import fuzzywuzzy\n",
    "from fuzzywuzzy import fuzz\n",
    "from fuzzywuzzy import process\n",
    "\n",
    "def find_matching(eicu_feature, hicu_feature):\n",
    "    ratio = fuzz.partial_ratio(eicu_feature.lower(), hicu_feature.lower())\n",
    "    return ratio"
   ]
  },
  {
   "cell_type": "code",
   "execution_count": 78,
   "metadata": {},
   "outputs": [],
   "source": [
    "matching_field['match_score'] = matching_field.apply(lambda x : find_matching(x['concept_name'], x['hicu_feature_english']), axis=1)"
   ]
  },
  {
   "cell_type": "code",
   "execution_count": 79,
   "metadata": {},
   "outputs": [],
   "source": [
    "matching_field.query('match_score > 80').to_csv('matching.csv', index=False)"
   ]
  },
  {
   "cell_type": "markdown",
   "metadata": {},
   "source": [
    "일일이 매칭 확인 후 맵핑된 것을 matching.csv로 업로드 하였음."
   ]
  },
  {
   "cell_type": "code",
   "execution_count": 46,
   "metadata": {},
   "outputs": [],
   "source": [
    "matched = pd.read_csv('matching.csv')"
   ]
  },
  {
   "cell_type": "code",
   "execution_count": 47,
   "metadata": {},
   "outputs": [],
   "source": [
    "matched_result = matched[matched.matching == 1].reset_index(drop=True).eval('feature_new_name = hicu_feature_english.str.lower()')\n",
    "\n",
    "# 이외에 height, weight, vital sign까지 포함해서 common feature로 이용"
   ]
  },
  {
   "cell_type": "markdown",
   "metadata": {},
   "source": [
    "각 feature를 새로이 matching된 친구들로 대체하되, 그 정보를 feature_eicu, feature_hicu에 넣어준다."
   ]
  },
  {
   "cell_type": "code",
   "execution_count": 48,
   "metadata": {},
   "outputs": [
    {
     "data": {
      "text/html": [
       "<div>\n",
       "<style scoped>\n",
       "    .dataframe tbody tr th:only-of-type {\n",
       "        vertical-align: middle;\n",
       "    }\n",
       "\n",
       "    .dataframe tbody tr th {\n",
       "        vertical-align: top;\n",
       "    }\n",
       "\n",
       "    .dataframe thead th {\n",
       "        text-align: right;\n",
       "    }\n",
       "</style>\n",
       "<table border=\"1\" class=\"dataframe\">\n",
       "  <thead>\n",
       "    <tr style=\"text-align: right;\">\n",
       "      <th></th>\n",
       "      <th>hicu_feature_original</th>\n",
       "      <th>hicu_feature_english</th>\n",
       "    </tr>\n",
       "  </thead>\n",
       "  <tbody>\n",
       "    <tr>\n",
       "      <th>0</th>\n",
       "      <td>주소1</td>\n",
       "      <td>address1</td>\n",
       "    </tr>\n",
       "    <tr>\n",
       "      <th>1</th>\n",
       "      <td>혈압</td>\n",
       "      <td>bp</td>\n",
       "    </tr>\n",
       "    <tr>\n",
       "      <th>2</th>\n",
       "      <td>Creatinine</td>\n",
       "      <td>Creatinine</td>\n",
       "    </tr>\n",
       "    <tr>\n",
       "      <th>3</th>\n",
       "      <td>체표면적</td>\n",
       "      <td>body surface area</td>\n",
       "    </tr>\n",
       "    <tr>\n",
       "      <th>4</th>\n",
       "      <td>신장Z</td>\n",
       "      <td>heightZ</td>\n",
       "    </tr>\n",
       "  </tbody>\n",
       "</table>\n",
       "</div>"
      ],
      "text/plain": [
       "  hicu_feature_original hicu_feature_english\n",
       "0                   주소1             address1\n",
       "1                    혈압                   bp\n",
       "2            Creatinine           Creatinine\n",
       "3                  체표면적    body surface area\n",
       "4                   신장Z              heightZ"
      ]
     },
     "execution_count": 48,
     "metadata": {},
     "output_type": "execute_result"
    }
   ],
   "source": [
    "feature_hicu.head()"
   ]
  },
  {
   "cell_type": "code",
   "execution_count": 57,
   "metadata": {},
   "outputs": [
    {
     "data": {
      "text/html": [
       "<div>\n",
       "<style scoped>\n",
       "    .dataframe tbody tr th:only-of-type {\n",
       "        vertical-align: middle;\n",
       "    }\n",
       "\n",
       "    .dataframe tbody tr th {\n",
       "        vertical-align: top;\n",
       "    }\n",
       "\n",
       "    .dataframe thead th {\n",
       "        text-align: right;\n",
       "    }\n",
       "</style>\n",
       "<table border=\"1\" class=\"dataframe\">\n",
       "  <thead>\n",
       "    <tr style=\"text-align: right;\">\n",
       "      <th></th>\n",
       "      <th>hicu_feature_original</th>\n",
       "      <th>hicu_feature_english</th>\n",
       "      <th>feature_new_name</th>\n",
       "    </tr>\n",
       "  </thead>\n",
       "  <tbody>\n",
       "    <tr>\n",
       "      <th>0</th>\n",
       "      <td>주소1</td>\n",
       "      <td>address1</td>\n",
       "      <td>주소1</td>\n",
       "    </tr>\n",
       "    <tr>\n",
       "      <th>1</th>\n",
       "      <td>혈압</td>\n",
       "      <td>bp</td>\n",
       "      <td>혈압</td>\n",
       "    </tr>\n",
       "    <tr>\n",
       "      <th>2</th>\n",
       "      <td>Creatinine</td>\n",
       "      <td>Creatinine</td>\n",
       "      <td>creatinine</td>\n",
       "    </tr>\n",
       "    <tr>\n",
       "      <th>3</th>\n",
       "      <td>체표면적</td>\n",
       "      <td>body surface area</td>\n",
       "      <td>체표면적</td>\n",
       "    </tr>\n",
       "    <tr>\n",
       "      <th>4</th>\n",
       "      <td>신장Z</td>\n",
       "      <td>heightZ</td>\n",
       "      <td>신장Z</td>\n",
       "    </tr>\n",
       "  </tbody>\n",
       "</table>\n",
       "</div>"
      ],
      "text/plain": [
       "  hicu_feature_original hicu_feature_english feature_new_name\n",
       "0                   주소1             address1              주소1\n",
       "1                    혈압                   bp               혈압\n",
       "2            Creatinine           Creatinine       creatinine\n",
       "3                  체표면적    body surface area             체표면적\n",
       "4                   신장Z              heightZ              신장Z"
      ]
     },
     "execution_count": 57,
     "metadata": {},
     "output_type": "execute_result"
    }
   ],
   "source": [
    "hicu_mapping = feature_hicu.merge(matched_result[['hicu_feature_english','feature_new_name']].drop_duplicates(), how='left')\n",
    "hicu_mapping['feature_new_name'] = hicu_mapping.feature_new_name.fillna(hicu_mapping['hicu_feature_original'])\n",
    "\n",
    "hicu_mapping.head()"
   ]
  },
  {
   "cell_type": "code",
   "execution_count": 60,
   "metadata": {},
   "outputs": [],
   "source": [
    "feature_eicu = feature_eicu.drop(columns = \"Unnamed: 0\")"
   ]
  },
  {
   "cell_type": "code",
   "execution_count": 70,
   "metadata": {},
   "outputs": [
    {
     "data": {
      "text/html": [
       "<div>\n",
       "<style scoped>\n",
       "    .dataframe tbody tr th:only-of-type {\n",
       "        vertical-align: middle;\n",
       "    }\n",
       "\n",
       "    .dataframe tbody tr th {\n",
       "        vertical-align: top;\n",
       "    }\n",
       "\n",
       "    .dataframe thead th {\n",
       "        text-align: right;\n",
       "    }\n",
       "</style>\n",
       "<table border=\"1\" class=\"dataframe\">\n",
       "  <thead>\n",
       "    <tr style=\"text-align: right;\">\n",
       "      <th></th>\n",
       "      <th>concept_name</th>\n",
       "      <th>concept_table</th>\n",
       "      <th>MICU</th>\n",
       "      <th>SICU</th>\n",
       "      <th>gap</th>\n",
       "      <th>feature_new_name</th>\n",
       "    </tr>\n",
       "  </thead>\n",
       "  <tbody>\n",
       "    <tr>\n",
       "      <th>0</th>\n",
       "      <td>-bands</td>\n",
       "      <td>lab</td>\n",
       "      <td>0.208736</td>\n",
       "      <td>0.147385</td>\n",
       "      <td>0.061351</td>\n",
       "      <td>-bands</td>\n",
       "    </tr>\n",
       "    <tr>\n",
       "      <th>1</th>\n",
       "      <td>-basos</td>\n",
       "      <td>lab</td>\n",
       "      <td>0.709761</td>\n",
       "      <td>0.634832</td>\n",
       "      <td>0.074929</td>\n",
       "      <td>-basos</td>\n",
       "    </tr>\n",
       "    <tr>\n",
       "      <th>2</th>\n",
       "      <td>-eos</td>\n",
       "      <td>lab</td>\n",
       "      <td>0.715908</td>\n",
       "      <td>0.638752</td>\n",
       "      <td>0.077156</td>\n",
       "      <td>-eos</td>\n",
       "    </tr>\n",
       "    <tr>\n",
       "      <th>3</th>\n",
       "      <td>-lymphs</td>\n",
       "      <td>lab</td>\n",
       "      <td>0.745945</td>\n",
       "      <td>0.658937</td>\n",
       "      <td>0.087008</td>\n",
       "      <td>-lymphs</td>\n",
       "    </tr>\n",
       "    <tr>\n",
       "      <th>4</th>\n",
       "      <td>-monos</td>\n",
       "      <td>lab</td>\n",
       "      <td>0.731073</td>\n",
       "      <td>0.645342</td>\n",
       "      <td>0.085732</td>\n",
       "      <td>-monos</td>\n",
       "    </tr>\n",
       "  </tbody>\n",
       "</table>\n",
       "</div>"
      ],
      "text/plain": [
       "  concept_name concept_table      MICU      SICU       gap feature_new_name\n",
       "0       -bands           lab  0.208736  0.147385  0.061351           -bands\n",
       "1       -basos           lab  0.709761  0.634832  0.074929           -basos\n",
       "2         -eos           lab  0.715908  0.638752  0.077156             -eos\n",
       "3      -lymphs           lab  0.745945  0.658937  0.087008          -lymphs\n",
       "4       -monos           lab  0.731073  0.645342  0.085732           -monos"
      ]
     },
     "execution_count": 70,
     "metadata": {},
     "output_type": "execute_result"
    }
   ],
   "source": [
    "eicu_mapping = feature_eicu.merge(matched_result[['concept_name','feature_new_name']], how='left')\n",
    "eicu_mapping['feature_new_name'] = eicu_mapping.feature_new_name.fillna(eicu_mapping.concept_name)\n",
    "\n",
    "eicu_mapping.head()"
   ]
  },
  {
   "cell_type": "markdown",
   "metadata": {},
   "source": [
    "save mapping."
   ]
  },
  {
   "cell_type": "code",
   "execution_count": 74,
   "metadata": {},
   "outputs": [],
   "source": [
    "hicu_mapping.to_csv(\"hicu_mapping.csv\", index=False)\n",
    "eicu_mapping.to_csv('eicu_mapping.csv', index=False)"
   ]
  },
  {
   "cell_type": "code",
   "execution_count": 75,
   "metadata": {},
   "outputs": [
    {
     "data": {
      "text/html": [
       "<div>\n",
       "<style scoped>\n",
       "    .dataframe tbody tr th:only-of-type {\n",
       "        vertical-align: middle;\n",
       "    }\n",
       "\n",
       "    .dataframe tbody tr th {\n",
       "        vertical-align: top;\n",
       "    }\n",
       "\n",
       "    .dataframe thead th {\n",
       "        text-align: right;\n",
       "    }\n",
       "</style>\n",
       "<table border=\"1\" class=\"dataframe\">\n",
       "  <thead>\n",
       "    <tr style=\"text-align: right;\">\n",
       "      <th></th>\n",
       "      <th>concept_name</th>\n",
       "      <th>concept_table</th>\n",
       "      <th>MICU</th>\n",
       "      <th>SICU</th>\n",
       "      <th>gap</th>\n",
       "      <th>feature_new_name</th>\n",
       "    </tr>\n",
       "  </thead>\n",
       "  <tbody>\n",
       "    <tr>\n",
       "      <th>0</th>\n",
       "      <td>-bands</td>\n",
       "      <td>lab</td>\n",
       "      <td>0.208736</td>\n",
       "      <td>0.147385</td>\n",
       "      <td>0.061351</td>\n",
       "      <td>-bands</td>\n",
       "    </tr>\n",
       "    <tr>\n",
       "      <th>1</th>\n",
       "      <td>-basos</td>\n",
       "      <td>lab</td>\n",
       "      <td>0.709761</td>\n",
       "      <td>0.634832</td>\n",
       "      <td>0.074929</td>\n",
       "      <td>-basos</td>\n",
       "    </tr>\n",
       "    <tr>\n",
       "      <th>2</th>\n",
       "      <td>-eos</td>\n",
       "      <td>lab</td>\n",
       "      <td>0.715908</td>\n",
       "      <td>0.638752</td>\n",
       "      <td>0.077156</td>\n",
       "      <td>-eos</td>\n",
       "    </tr>\n",
       "    <tr>\n",
       "      <th>3</th>\n",
       "      <td>-lymphs</td>\n",
       "      <td>lab</td>\n",
       "      <td>0.745945</td>\n",
       "      <td>0.658937</td>\n",
       "      <td>0.087008</td>\n",
       "      <td>-lymphs</td>\n",
       "    </tr>\n",
       "    <tr>\n",
       "      <th>4</th>\n",
       "      <td>-monos</td>\n",
       "      <td>lab</td>\n",
       "      <td>0.731073</td>\n",
       "      <td>0.645342</td>\n",
       "      <td>0.085732</td>\n",
       "      <td>-monos</td>\n",
       "    </tr>\n",
       "    <tr>\n",
       "      <th>...</th>\n",
       "      <td>...</td>\n",
       "      <td>...</td>\n",
       "      <td>...</td>\n",
       "      <td>...</td>\n",
       "      <td>...</td>\n",
       "      <td>...</td>\n",
       "    </tr>\n",
       "    <tr>\n",
       "      <th>2341</th>\n",
       "      <td>uric acid</td>\n",
       "      <td>lab</td>\n",
       "      <td>0.035951</td>\n",
       "      <td>0.026191</td>\n",
       "      <td>0.009760</td>\n",
       "      <td>uric acid</td>\n",
       "    </tr>\n",
       "    <tr>\n",
       "      <th>2342</th>\n",
       "      <td>urinary creatinine</td>\n",
       "      <td>lab</td>\n",
       "      <td>0.072077</td>\n",
       "      <td>0.070481</td>\n",
       "      <td>0.001596</td>\n",
       "      <td>creatinine</td>\n",
       "    </tr>\n",
       "    <tr>\n",
       "      <th>2343</th>\n",
       "      <td>urinary osmolality</td>\n",
       "      <td>lab</td>\n",
       "      <td>0.048481</td>\n",
       "      <td>0.037534</td>\n",
       "      <td>0.010946</td>\n",
       "      <td>urinary osmolality</td>\n",
       "    </tr>\n",
       "    <tr>\n",
       "      <th>2344</th>\n",
       "      <td>urinary sodium</td>\n",
       "      <td>lab</td>\n",
       "      <td>0.100474</td>\n",
       "      <td>0.084828</td>\n",
       "      <td>0.015647</td>\n",
       "      <td>urinary sodium</td>\n",
       "    </tr>\n",
       "    <tr>\n",
       "      <th>2345</th>\n",
       "      <td>urinary specific gravity</td>\n",
       "      <td>lab</td>\n",
       "      <td>0.472393</td>\n",
       "      <td>0.416465</td>\n",
       "      <td>0.055928</td>\n",
       "      <td>urinary specific gravity</td>\n",
       "    </tr>\n",
       "  </tbody>\n",
       "</table>\n",
       "<p>2346 rows × 6 columns</p>\n",
       "</div>"
      ],
      "text/plain": [
       "                  concept_name concept_table      MICU      SICU       gap  \\\n",
       "0                       -bands           lab  0.208736  0.147385  0.061351   \n",
       "1                       -basos           lab  0.709761  0.634832  0.074929   \n",
       "2                         -eos           lab  0.715908  0.638752  0.077156   \n",
       "3                      -lymphs           lab  0.745945  0.658937  0.087008   \n",
       "4                       -monos           lab  0.731073  0.645342  0.085732   \n",
       "...                        ...           ...       ...       ...       ...   \n",
       "2341                 uric acid           lab  0.035951  0.026191  0.009760   \n",
       "2342        urinary creatinine           lab  0.072077  0.070481  0.001596   \n",
       "2343        urinary osmolality           lab  0.048481  0.037534  0.010946   \n",
       "2344            urinary sodium           lab  0.100474  0.084828  0.015647   \n",
       "2345  urinary specific gravity           lab  0.472393  0.416465  0.055928   \n",
       "\n",
       "              feature_new_name  \n",
       "0                       -bands  \n",
       "1                       -basos  \n",
       "2                         -eos  \n",
       "3                      -lymphs  \n",
       "4                       -monos  \n",
       "...                        ...  \n",
       "2341                 uric acid  \n",
       "2342                creatinine  \n",
       "2343        urinary osmolality  \n",
       "2344            urinary sodium  \n",
       "2345  urinary specific gravity  \n",
       "\n",
       "[2346 rows x 6 columns]"
      ]
     },
     "execution_count": 75,
     "metadata": {},
     "output_type": "execute_result"
    }
   ],
   "source": [
    "eicu_mapping[eicu_mapping.concept_name.str]"
   ]
  }
 ],
 "metadata": {
  "kernelspec": {
   "display_name": "Python 3.7.6 64-bit ('2022_ppfl_preprocessing')",
   "language": "python",
   "name": "python3"
  },
  "language_info": {
   "codemirror_mode": {
    "name": "ipython",
    "version": 3
   },
   "file_extension": ".py",
   "mimetype": "text/x-python",
   "name": "python",
   "nbconvert_exporter": "python",
   "pygments_lexer": "ipython3",
   "version": "3.7.6"
  },
  "orig_nbformat": 4,
  "vscode": {
   "interpreter": {
    "hash": "eb05cee3ff1463c2e5770153a2bb74dbc71bb1bd15f53fed69f9c13e7e041850"
   }
  }
 },
 "nbformat": 4,
 "nbformat_minor": 2
}
