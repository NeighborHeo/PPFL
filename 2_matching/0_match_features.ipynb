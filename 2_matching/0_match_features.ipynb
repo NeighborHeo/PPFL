{
 "cells": [
  {
   "cell_type": "code",
   "execution_count": 73,
   "metadata": {},
   "outputs": [],
   "source": [
    "import pickle\n",
    "import dask.dataframe as dd\n",
    "import pandas as pd"
   ]
  },
  {
   "cell_type": "code",
   "execution_count": 74,
   "metadata": {},
   "outputs": [],
   "source": [
    "eICU_features = set(pd.read_csv('../1_importsql/feature_df2.csv').concept_name)\n",
    "feature_eicu = pd.read_csv('feature_eicu.csv')\n",
    "feature_hicu = pd.read_csv('feature_hicu.csv')"
   ]
  },
  {
   "cell_type": "markdown",
   "metadata": {},
   "source": [
    "## 매칭 안되는 부분\n",
    "- drug : 세브란스에서 prescription은 쓸 수 없어서"
   ]
  },
  {
   "cell_type": "markdown",
   "metadata": {},
   "source": [
    "## 매칭\n",
    "- fuzzy algorithm 이용해서 비슷한 string에 대해서 매칭 진행하도록 한다."
   ]
  },
  {
   "cell_type": "code",
   "execution_count": 82,
   "metadata": {},
   "outputs": [
    {
     "data": {
      "text/plain": [
       "array(['lab', 'adm'], dtype=object)"
      ]
     },
     "execution_count": 82,
     "metadata": {},
     "output_type": "execute_result"
    }
   ],
   "source": [
    "feature_eicu.concept_table.unique()"
   ]
  },
  {
   "cell_type": "code",
   "execution_count": 75,
   "metadata": {},
   "outputs": [],
   "source": [
    "matching_field = feature_eicu[['concept_name']].merge(feature_hicu[['hicu_feature_english']], how='cross')"
   ]
  },
  {
   "cell_type": "code",
   "execution_count": 76,
   "metadata": {},
   "outputs": [
    {
     "data": {
      "text/html": [
       "<div>\n",
       "<style scoped>\n",
       "    .dataframe tbody tr th:only-of-type {\n",
       "        vertical-align: middle;\n",
       "    }\n",
       "\n",
       "    .dataframe tbody tr th {\n",
       "        vertical-align: top;\n",
       "    }\n",
       "\n",
       "    .dataframe thead th {\n",
       "        text-align: right;\n",
       "    }\n",
       "</style>\n",
       "<table border=\"1\" class=\"dataframe\">\n",
       "  <thead>\n",
       "    <tr style=\"text-align: right;\">\n",
       "      <th></th>\n",
       "      <th>concept_name</th>\n",
       "      <th>hicu_feature_english</th>\n",
       "    </tr>\n",
       "  </thead>\n",
       "  <tbody>\n",
       "    <tr>\n",
       "      <th>0</th>\n",
       "      <td>-bands</td>\n",
       "      <td>address1</td>\n",
       "    </tr>\n",
       "    <tr>\n",
       "      <th>1</th>\n",
       "      <td>-bands</td>\n",
       "      <td>bp</td>\n",
       "    </tr>\n",
       "    <tr>\n",
       "      <th>2</th>\n",
       "      <td>-bands</td>\n",
       "      <td>Creatinine</td>\n",
       "    </tr>\n",
       "    <tr>\n",
       "      <th>3</th>\n",
       "      <td>-bands</td>\n",
       "      <td>body surface area</td>\n",
       "    </tr>\n",
       "    <tr>\n",
       "      <th>4</th>\n",
       "      <td>-bands</td>\n",
       "      <td>heightZ</td>\n",
       "    </tr>\n",
       "  </tbody>\n",
       "</table>\n",
       "</div>"
      ],
      "text/plain": [
       "  concept_name hicu_feature_english\n",
       "0       -bands             address1\n",
       "1       -bands                   bp\n",
       "2       -bands           Creatinine\n",
       "3       -bands    body surface area\n",
       "4       -bands              heightZ"
      ]
     },
     "execution_count": 76,
     "metadata": {},
     "output_type": "execute_result"
    }
   ],
   "source": [
    "matching_field.head()"
   ]
  },
  {
   "cell_type": "code",
   "execution_count": 77,
   "metadata": {},
   "outputs": [],
   "source": [
    "import fuzzywuzzy\n",
    "from fuzzywuzzy import fuzz\n",
    "from fuzzywuzzy import process\n",
    "\n",
    "def find_matching(eicu_feature, hicu_feature):\n",
    "    ratio = fuzz.partial_ratio(eicu_feature.lower(), hicu_feature.lower())\n",
    "    return ratio"
   ]
  },
  {
   "cell_type": "code",
   "execution_count": 78,
   "metadata": {},
   "outputs": [],
   "source": [
    "matching_field['match_score'] = matching_field.apply(lambda x : find_matching(x['concept_name'], x['hicu_feature_english']), axis=1)"
   ]
  },
  {
   "cell_type": "code",
   "execution_count": 79,
   "metadata": {},
   "outputs": [],
   "source": [
    "matching_field.query('match_score > 80').to_csv('matching.csv', index=False)"
   ]
  },
  {
   "cell_type": "markdown",
   "metadata": {},
   "source": [
    "일일이 매칭 확인 후 맵핑된 것을 matching.csv로 업로드 하였음."
   ]
  },
  {
   "cell_type": "code",
   "execution_count": 83,
   "metadata": {},
   "outputs": [],
   "source": [
    "matched = pd.read_csv('matching.csv')"
   ]
  },
  {
   "cell_type": "code",
   "execution_count": 87,
   "metadata": {},
   "outputs": [
    {
     "data": {
      "text/html": [
       "<div>\n",
       "<style scoped>\n",
       "    .dataframe tbody tr th:only-of-type {\n",
       "        vertical-align: middle;\n",
       "    }\n",
       "\n",
       "    .dataframe tbody tr th {\n",
       "        vertical-align: top;\n",
       "    }\n",
       "\n",
       "    .dataframe thead th {\n",
       "        text-align: right;\n",
       "    }\n",
       "</style>\n",
       "<table border=\"1\" class=\"dataframe\">\n",
       "  <thead>\n",
       "    <tr style=\"text-align: right;\">\n",
       "      <th></th>\n",
       "      <th>concept_name</th>\n",
       "      <th>hicu_feature_english</th>\n",
       "      <th>match_score</th>\n",
       "      <th>matching</th>\n",
       "    </tr>\n",
       "  </thead>\n",
       "  <tbody>\n",
       "    <tr>\n",
       "      <th>0</th>\n",
       "      <td>BUN</td>\n",
       "      <td>BUN</td>\n",
       "      <td>100</td>\n",
       "      <td>1</td>\n",
       "    </tr>\n",
       "    <tr>\n",
       "      <th>1</th>\n",
       "      <td>CREATININE                                    ...</td>\n",
       "      <td>Creatinine</td>\n",
       "      <td>100</td>\n",
       "      <td>1</td>\n",
       "    </tr>\n",
       "    <tr>\n",
       "      <th>2</th>\n",
       "      <td>GLUCOSE                                       ...</td>\n",
       "      <td>Glucose</td>\n",
       "      <td>100</td>\n",
       "      <td>1</td>\n",
       "    </tr>\n",
       "    <tr>\n",
       "      <th>3</th>\n",
       "      <td>HCO3</td>\n",
       "      <td>HCO3-</td>\n",
       "      <td>100</td>\n",
       "      <td>1</td>\n",
       "    </tr>\n",
       "    <tr>\n",
       "      <th>4</th>\n",
       "      <td>Hct</td>\n",
       "      <td>Hct</td>\n",
       "      <td>100</td>\n",
       "      <td>1</td>\n",
       "    </tr>\n",
       "    <tr>\n",
       "      <th>5</th>\n",
       "      <td>POTASSIUM                                     ...</td>\n",
       "      <td>potassium</td>\n",
       "      <td>100</td>\n",
       "      <td>1</td>\n",
       "    </tr>\n",
       "    <tr>\n",
       "      <th>6</th>\n",
       "      <td>RBC</td>\n",
       "      <td>RBC COUNT</td>\n",
       "      <td>100</td>\n",
       "      <td>1</td>\n",
       "    </tr>\n",
       "    <tr>\n",
       "      <th>7</th>\n",
       "      <td>Temperature</td>\n",
       "      <td>temperature</td>\n",
       "      <td>100</td>\n",
       "      <td>1</td>\n",
       "    </tr>\n",
       "    <tr>\n",
       "      <th>8</th>\n",
       "      <td>creatinine</td>\n",
       "      <td>Creatinine</td>\n",
       "      <td>100</td>\n",
       "      <td>1</td>\n",
       "    </tr>\n",
       "    <tr>\n",
       "      <th>9</th>\n",
       "      <td>glucose</td>\n",
       "      <td>Glucose</td>\n",
       "      <td>100</td>\n",
       "      <td>1</td>\n",
       "    </tr>\n",
       "    <tr>\n",
       "      <th>10</th>\n",
       "      <td>glucose - CSF</td>\n",
       "      <td>Glucose</td>\n",
       "      <td>100</td>\n",
       "      <td>1</td>\n",
       "    </tr>\n",
       "    <tr>\n",
       "      <th>11</th>\n",
       "      <td>pH</td>\n",
       "      <td>pH</td>\n",
       "      <td>100</td>\n",
       "      <td>1</td>\n",
       "    </tr>\n",
       "    <tr>\n",
       "      <th>12</th>\n",
       "      <td>potassium</td>\n",
       "      <td>potassium</td>\n",
       "      <td>100</td>\n",
       "      <td>1</td>\n",
       "    </tr>\n",
       "    <tr>\n",
       "      <th>13</th>\n",
       "      <td>sodium</td>\n",
       "      <td>sodium</td>\n",
       "      <td>100</td>\n",
       "      <td>1</td>\n",
       "    </tr>\n",
       "    <tr>\n",
       "      <th>14</th>\n",
       "      <td>urinary creatinine</td>\n",
       "      <td>Creatinine</td>\n",
       "      <td>100</td>\n",
       "      <td>1</td>\n",
       "    </tr>\n",
       "  </tbody>\n",
       "</table>\n",
       "</div>"
      ],
      "text/plain": [
       "                                         concept_name hicu_feature_english  \\\n",
       "0                                                 BUN                  BUN   \n",
       "1   CREATININE                                    ...           Creatinine   \n",
       "2   GLUCOSE                                       ...              Glucose   \n",
       "3                                                HCO3                HCO3-   \n",
       "4                                                 Hct                  Hct   \n",
       "5   POTASSIUM                                     ...            potassium   \n",
       "6                                                 RBC            RBC COUNT   \n",
       "7                                         Temperature          temperature   \n",
       "8                                          creatinine           Creatinine   \n",
       "9                                             glucose              Glucose   \n",
       "10                                      glucose - CSF              Glucose   \n",
       "11                                                 pH                   pH   \n",
       "12                                          potassium            potassium   \n",
       "13                                             sodium               sodium   \n",
       "14                                 urinary creatinine           Creatinine   \n",
       "\n",
       "    match_score  matching  \n",
       "0           100         1  \n",
       "1           100         1  \n",
       "2           100         1  \n",
       "3           100         1  \n",
       "4           100         1  \n",
       "5           100         1  \n",
       "6           100         1  \n",
       "7           100         1  \n",
       "8           100         1  \n",
       "9           100         1  \n",
       "10          100         1  \n",
       "11          100         1  \n",
       "12          100         1  \n",
       "13          100         1  \n",
       "14          100         1  "
      ]
     },
     "execution_count": 87,
     "metadata": {},
     "output_type": "execute_result"
    }
   ],
   "source": [
    "matched[matched.matching == 1].reset_index(drop=True)\n",
    "\n",
    "# 이외에 height, weight, vital sign까지 포함해서 common feature로 이용"
   ]
  },
  {
   "cell_type": "code",
   "execution_count": 21,
   "metadata": {},
   "outputs": [
    {
     "data": {
      "text/plain": [
       "{'BUN',\n",
       " 'Basophil(%)',\n",
       " 'Cl',\n",
       " 'Creatinine',\n",
       " 'Eosinophil(%)',\n",
       " 'Glucose(POCT)',\n",
       " 'HCO3-',\n",
       " 'Hct',\n",
       " 'Hemoglobin',\n",
       " 'K',\n",
       " 'Monocyte(%)',\n",
       " 'Na',\n",
       " 'Neutrophil(%)',\n",
       " 'PLT Count',\n",
       " 'RBC COUNT',\n",
       " 'aPTT',\n",
       " 'idx',\n",
       " 'pH',\n",
       " 'pO2',\n",
       " '가진찰권번호여부',\n",
       " '검사일자',\n",
       " '구역번호',\n",
       " '국제수가_적용여부',\n",
       " '급여제한여부',\n",
       " '동의서진행상태',\n",
       " '동의서진행상태명',\n",
       " '맥박수',\n",
       " '무효처리_구분',\n",
       " '생년월',\n",
       " '성별',\n",
       " '성별명',\n",
       " '신장',\n",
       " '신장P',\n",
       " '신장Z',\n",
       " '연구내원번호',\n",
       " '연구등록번호',\n",
       " '연구신규_진찰권번호',\n",
       " '외국인여부',\n",
       " '입력일자',\n",
       " '입실나이',\n",
       " '전입_일주일전',\n",
       " '전입일자',\n",
       " '전출_일주일후',\n",
       " '전출일자',\n",
       " '조회시점나이',\n",
       " '주민번호',\n",
       " '주소1',\n",
       " '주소구분',\n",
       " '주소출력일자',\n",
       " '지역병원코드',\n",
       " '지역병원코드명',\n",
       " '체온',\n",
       " '체중',\n",
       " '체중P',\n",
       " '체중Z',\n",
       " '체표면적',\n",
       " '최근내원일',\n",
       " '최초_병원코드',\n",
       " '혈압',\n",
       " '호흡수',\n",
       " '환자정보비공개여부',\n",
       " '휴대폰_관계코드',\n",
       " '휴대폰전화번호1',\n",
       " '휴대폰전화번호2'}"
      ]
     },
     "execution_count": 21,
     "metadata": {},
     "output_type": "execute_result"
    }
   ],
   "source": [
    "hicu_features"
   ]
  }
 ],
 "metadata": {
  "kernelspec": {
   "display_name": "Python 3.7.6 64-bit ('2022_ppfl_preprocessing')",
   "language": "python",
   "name": "python3"
  },
  "language_info": {
   "codemirror_mode": {
    "name": "ipython",
    "version": 3
   },
   "file_extension": ".py",
   "mimetype": "text/x-python",
   "name": "python",
   "nbconvert_exporter": "python",
   "pygments_lexer": "ipython3",
   "version": "3.7.6"
  },
  "orig_nbformat": 4,
  "vscode": {
   "interpreter": {
    "hash": "eb05cee3ff1463c2e5770153a2bb74dbc71bb1bd15f53fed69f9c13e7e041850"
   }
  }
 },
 "nbformat": 4,
 "nbformat_minor": 2
}
