{
 "cells": [
  {
   "cell_type": "code",
   "execution_count": null,
   "metadata": {},
   "outputs": [],
   "source": [
    "#!/usr/bin/env python\n",
    "# coding: utf-8\n",
    "\n",
    "'''\n",
    "import SQL\n",
    "'''\n",
    "\n",
    "# In[ ]:\n",
    "# ** import package **\n",
    "import os\n",
    "import sys\n",
    "import json\n",
    "import pathlib\n",
    "sys.path.append(\"..\")\n",
    "\n",
    "import numpy as np\n",
    "import pandas as pd\n",
    "import matplotlib.pyplot as plt\n",
    "import traceback\n",
    "from tqdm import tqdm\n",
    "from datetime import timedelta\n",
    "from _utils.customlogger import customlogger as CL\n",
    "\n",
    "pd.set_option('display.max_colwidth', -1)  #각 컬럼 width 최대로 \n",
    "pd.set_option('display.max_rows', 50)      # display 50개 까지 "
   ]
  },
  {
   "cell_type": "code",
   "execution_count": null,
   "metadata": {},
   "outputs": [],
   "source": [
    "# In[ ]:\n",
    "# ** loading config **\n",
    "with open('./../{}'.format(\"config.json\")) as file:\n",
    "    cfg = json.load(file)"
   ]
  },
  {
   "cell_type": "code",
   "execution_count": null,
   "metadata": {},
   "outputs": [],
   "source": [
    "# In[ ]:\n",
    "# ** loading info **\n",
    "current_dir = pathlib.Path.cwd()\n",
    "parent_dir = current_dir.parent\n",
    "current_date = cfg[\"working_date\"]\n",
    "curr_file_name = os.path.splitext(os.path.basename(os.path.abspath('')))[0]"
   ]
  },
  {
   "cell_type": "code",
   "execution_count": null,
   "metadata": {},
   "outputs": [],
   "source": [
    "# In[ ]:\n",
    "# **create Logger**\n",
    "log = CL(\"custom_logger\")\n",
    "pathlib.Path.mkdir(pathlib.Path('{}/_log/'.format(parent_dir)), mode=0o777, parents=True, exist_ok=True)\n",
    "log = log.create_logger(file_name=\"../_log/{}.log\".format(curr_file_name), mode=\"a\", level=\"DEBUG\")  \n",
    "log.debug('start {}'.format(curr_file_name))"
   ]
  },
  {
   "cell_type": "code",
   "execution_count": null,
   "metadata": {},
   "outputs": [],
   "source": [
    "# In[ ]:\n",
    "# ** connection DataBase **\n",
    "if (cfg[\"dbms\"]==\"postgresql\"):\n",
    "    db_cfg = cfg[\"postgresql\"]\n",
    "    import psycopg2 as pg\n",
    "    conn = pg.connect(host=db_cfg['@server'], user=db_cfg['@user'], password=db_cfg['@password'], port=db_cfg['@port'], dbname=db_cfg['@database']) \n",
    "    log.debug(\"postgresql connect\")\n",
    "    \n",
    "elif (cfg[\"dbms\"]==\"mssql\"):\n",
    "    db_cfg = cfg[\"mssql\"]\n",
    "    import pymssql\n",
    "    conn= pymssql.connect(server=db_cfg['@server'], user=db_cfg['@user'], password=db_cfg['@password'], port=db_cfg['@port'], database=db_cfg['@database'], as_dict=False)\n",
    "    log.debug(\"mssql connect\")\n",
    "    \n",
    "elif (cfg[\"dbms\"]==\"mysql\"):\n",
    "    db_cfg = cfg[\"mysql\"]\n",
    "    import pymysql\n",
    "    conn= pymysql.connect(host=db_cfg['@server'], user=db_cfg['@user'], password=db_cfg['@password'], port=db_cfg['@port'], db=db_cfg['@database'], charset='utf8', autocommit=True)\n",
    "    log.debug(\"mysql connect\")\n",
    "    \n",
    "else:\n",
    "    log.warning(\"set config.json - sql - dbms : mssql or postgresql\")"
   ]
  },
  {
   "cell_type": "code",
   "execution_count": null,
   "metadata": {},
   "outputs": [],
   "source": [
    "apachepsvar_df = pd.read_sql(\"SELECT * FROM eicu.APACHEAPSVAR\", con=conn)"
   ]
  },
  {
   "cell_type": "code",
   "execution_count": null,
   "metadata": {},
   "outputs": [],
   "source": [
    "patient_df = pd.read_sql(\"SELECT * FROM eicu.PATIENT\", con=conn)"
   ]
  },
  {
   "cell_type": "code",
   "execution_count": null,
   "metadata": {},
   "outputs": [],
   "source": [
    "microlab_df = pd.read_sql(\"SELECT * FROM eicu.MICROLAB\", con=conn)"
   ]
  },
  {
   "cell_type": "code",
   "execution_count": 10,
   "metadata": {},
   "outputs": [],
   "source": [
    "lab_df = pd.read_sql(\"SELECT * FROM eicu.LAB\", con=conn)"
   ]
  },
  {
   "cell_type": "code",
   "execution_count": 11,
   "metadata": {},
   "outputs": [],
   "source": [
    "medication_df = pd.read_sql(\"SELECT * FROM eicu.MEDICATION\", con=conn)"
   ]
  },
  {
   "cell_type": "code",
   "execution_count": 17,
   "metadata": {},
   "outputs": [],
   "source": [
    "admissiondrug_df = pd.read_sql(\"SELECT * FROM eicu.ADMISSIONDRUG\", con=conn)"
   ]
  },
  {
   "cell_type": "code",
   "execution_count": 15,
   "metadata": {},
   "outputs": [],
   "source": [
    "apachepsvar_df.to_feather('apachepsvar_df.feather')\n",
    "patient_df.to_feather('patient_df.feather')\n",
    "microlab_df.to_feather('microlab_df.feather')\n",
    "lab_df.to_feather('lab_df.feather')\n",
    "medication_df.to_feather('medication_df.feather')\n",
    "admissiondrug_df.to_feather('admissiondrug_df.feather')"
   ]
  },
  {
   "cell_type": "code",
   "execution_count": null,
   "metadata": {},
   "outputs": [],
   "source": [
    "apachepsvar_df = pd.read_feather('apachepsvar_df.feather')\n",
    "patient_df = pd.read_feather('patient_df.feather')\n",
    "microlab_df = pd.read_feather('microlab_df.feather')\n",
    "lab_df = pd.read_feather('lab_df.feather')\n",
    "medication_df = pd.read_feather('medication_df.feather')\n",
    "admissiondrug_df = pd.read_feather('admissiondrug_df.feather')"
   ]
  },
  {
   "cell_type": "code",
   "execution_count": 21,
   "metadata": {},
   "outputs": [],
   "source": [
    "patient_apc_df = pd.merge(patient_df, apachepsvar_df, left_on='patientunitstayid', right_on='patientunitstayid', how='inner')\n",
    "patient_med_df = pd.merge(patient_df[['patientunitstayid', 'unittype']], medication_df[['patientunitstayid', 'drugname']], left_on='patientunitstayid', right_on='patientunitstayid', how='inner')\n",
    "patient_lab_df = pd.merge(patient_df[['patientunitstayid', 'unittype']], lab_df[['patientunitstayid', 'labname', 'labresult']], left_on='patientunitstayid', right_on='patientunitstayid', how='inner')\n",
    "patient_adm_df = pd.merge(patient_df[['patientunitstayid', 'unittype']], admissiondrug_df[['patientunitstayid', 'drugname']], left_on='patientunitstayid', right_on='patientunitstayid', how='inner')"
   ]
  },
  {
   "cell_type": "code",
   "execution_count": 35,
   "metadata": {},
   "outputs": [],
   "source": [
    "patient_med_df.rename(columns={'drugname':'concept_name'}, inplace=True)\n",
    "patient_med_df['concept_value'] = 1\n",
    "patient_med_df['concept_table'] = 'med'\n",
    "patient_lab_df.rename(columns={'labname':'concept_name','labresult':'concept_value'}, inplace=True)\n",
    "patient_lab_df['concept_table'] = 'lab'\n",
    "patient_adm_df.rename(columns={'drugname':'concept_name'}, inplace=True)\n",
    "patient_adm_df['concept_value'] = 1\n",
    "patient_adm_df['concept_table'] = 'adm'"
   ]
  },
  {
   "cell_type": "code",
   "execution_count": 36,
   "metadata": {},
   "outputs": [],
   "source": [
    "concat_df = pd.concat([patient_med_df, patient_lab_df, patient_adm_df], axis=0, ignore_index=True)"
   ]
  },
  {
   "cell_type": "code",
   "execution_count": 37,
   "metadata": {},
   "outputs": [
    {
     "data": {
      "text/html": [
       "<div>\n",
       "<style scoped>\n",
       "    .dataframe tbody tr th:only-of-type {\n",
       "        vertical-align: middle;\n",
       "    }\n",
       "\n",
       "    .dataframe tbody tr th {\n",
       "        vertical-align: top;\n",
       "    }\n",
       "\n",
       "    .dataframe thead th {\n",
       "        text-align: right;\n",
       "    }\n",
       "</style>\n",
       "<table border=\"1\" class=\"dataframe\">\n",
       "  <thead>\n",
       "    <tr style=\"text-align: right;\">\n",
       "      <th></th>\n",
       "      <th>patientunitstayid</th>\n",
       "      <th>unittype</th>\n",
       "      <th>concept_name</th>\n",
       "      <th>concept_value</th>\n",
       "      <th>concept_table</th>\n",
       "    </tr>\n",
       "  </thead>\n",
       "  <tbody>\n",
       "    <tr>\n",
       "      <th>0</th>\n",
       "      <td>141168</td>\n",
       "      <td>Med-Surg ICU</td>\n",
       "      <td>METOPROLOL TARTRATE 25 MG PO TABS</td>\n",
       "      <td>1.0</td>\n",
       "      <td>med</td>\n",
       "    </tr>\n",
       "    <tr>\n",
       "      <th>1</th>\n",
       "      <td>141168</td>\n",
       "      <td>Med-Surg ICU</td>\n",
       "      <td>3 ML  -  IPRATROPIUM-ALBUTEROL 0.5-2.5 (3) MG/3ML IN SOLN</td>\n",
       "      <td>1.0</td>\n",
       "      <td>med</td>\n",
       "    </tr>\n",
       "    <tr>\n",
       "      <th>2</th>\n",
       "      <td>141168</td>\n",
       "      <td>Med-Surg ICU</td>\n",
       "      <td>ASPIRIN EC 81 MG PO TBEC</td>\n",
       "      <td>1.0</td>\n",
       "      <td>med</td>\n",
       "    </tr>\n",
       "    <tr>\n",
       "      <th>3</th>\n",
       "      <td>141168</td>\n",
       "      <td>Med-Surg ICU</td>\n",
       "      <td>3 ML  -  IPRATROPIUM-ALBUTEROL 0.5-2.5 (3) MG/3ML IN SOLN</td>\n",
       "      <td>1.0</td>\n",
       "      <td>med</td>\n",
       "    </tr>\n",
       "    <tr>\n",
       "      <th>4</th>\n",
       "      <td>141168</td>\n",
       "      <td>Med-Surg ICU</td>\n",
       "      <td>ENOXAPARIN SODIUM 40 MG/0.4ML SC SOLN</td>\n",
       "      <td>1.0</td>\n",
       "      <td>med</td>\n",
       "    </tr>\n",
       "    <tr>\n",
       "      <th>...</th>\n",
       "      <td>...</td>\n",
       "      <td>...</td>\n",
       "      <td>...</td>\n",
       "      <td>...</td>\n",
       "      <td>...</td>\n",
       "    </tr>\n",
       "    <tr>\n",
       "      <th>47309299</th>\n",
       "      <td>3353117</td>\n",
       "      <td>SICU</td>\n",
       "      <td>ASPIRIN</td>\n",
       "      <td>1.0</td>\n",
       "      <td>adm</td>\n",
       "    </tr>\n",
       "    <tr>\n",
       "      <th>47309300</th>\n",
       "      <td>3353117</td>\n",
       "      <td>SICU</td>\n",
       "      <td>ATENOLOL</td>\n",
       "      <td>1.0</td>\n",
       "      <td>adm</td>\n",
       "    </tr>\n",
       "    <tr>\n",
       "      <th>47309301</th>\n",
       "      <td>3353117</td>\n",
       "      <td>SICU</td>\n",
       "      <td>SIMVASTATIN</td>\n",
       "      <td>1.0</td>\n",
       "      <td>adm</td>\n",
       "    </tr>\n",
       "    <tr>\n",
       "      <th>47309302</th>\n",
       "      <td>3353117</td>\n",
       "      <td>SICU</td>\n",
       "      <td>FENOFIBRATE</td>\n",
       "      <td>1.0</td>\n",
       "      <td>adm</td>\n",
       "    </tr>\n",
       "    <tr>\n",
       "      <th>47309303</th>\n",
       "      <td>3353117</td>\n",
       "      <td>SICU</td>\n",
       "      <td>LISINOPRIL</td>\n",
       "      <td>1.0</td>\n",
       "      <td>adm</td>\n",
       "    </tr>\n",
       "  </tbody>\n",
       "</table>\n",
       "<p>47309304 rows × 5 columns</p>\n",
       "</div>"
      ],
      "text/plain": [
       "          patientunitstayid      unittype  \\\n",
       "0         141168             Med-Surg ICU   \n",
       "1         141168             Med-Surg ICU   \n",
       "2         141168             Med-Surg ICU   \n",
       "3         141168             Med-Surg ICU   \n",
       "4         141168             Med-Surg ICU   \n",
       "...          ...                      ...   \n",
       "47309299  3353117            SICU           \n",
       "47309300  3353117            SICU           \n",
       "47309301  3353117            SICU           \n",
       "47309302  3353117            SICU           \n",
       "47309303  3353117            SICU           \n",
       "\n",
       "                                                                                                                                                                                                                                                             concept_name  \\\n",
       "0         METOPROLOL TARTRATE 25 MG PO TABS                                                                                                                                                                                                                                 \n",
       "1         3 ML  -  IPRATROPIUM-ALBUTEROL 0.5-2.5 (3) MG/3ML IN SOLN                                                                                                                                                                                                         \n",
       "2         ASPIRIN EC 81 MG PO TBEC                                                                                                                                                                                                                                          \n",
       "3         3 ML  -  IPRATROPIUM-ALBUTEROL 0.5-2.5 (3) MG/3ML IN SOLN                                                                                                                                                                                                         \n",
       "4         ENOXAPARIN SODIUM 40 MG/0.4ML SC SOLN                                                                                                                                                                                                                             \n",
       "...                                         ...                                                                                                                                                                                                                             \n",
       "47309299  ASPIRIN                                                                                                                                                                                                                                                           \n",
       "47309300  ATENOLOL                                                                                                                                                                                                                                                          \n",
       "47309301  SIMVASTATIN                                                                                                                                                                                                                                                       \n",
       "47309302  FENOFIBRATE                                                                                                                                                                                                                                                       \n",
       "47309303  LISINOPRIL                                                                                                                                                                                                                                                        \n",
       "\n",
       "          concept_value concept_table  \n",
       "0         1.0            med           \n",
       "1         1.0            med           \n",
       "2         1.0            med           \n",
       "3         1.0            med           \n",
       "4         1.0            med           \n",
       "...       ...            ...           \n",
       "47309299  1.0            adm           \n",
       "47309300  1.0            adm           \n",
       "47309301  1.0            adm           \n",
       "47309302  1.0            adm           \n",
       "47309303  1.0            adm           \n",
       "\n",
       "[47309304 rows x 5 columns]"
      ]
     },
     "execution_count": 37,
     "metadata": {},
     "output_type": "execute_result"
    }
   ],
   "source": []
  },
  {
   "cell_type": "code",
   "execution_count": null,
   "metadata": {},
   "outputs": [],
   "source": [
    "def filter_with_missing_rate(df, threshold):\n",
    "    def filter_with_missing_rate_concept(x, nTotalPatients, threshold):\n",
    "        nConceptPatients = len(x.patientunitstayid.unique())\n",
    "        fEpsilon = 1.0e-08 # devide by zero\n",
    "        fMissingRate = nConceptPatients / (nTotalPatients + fEpsilon)\n",
    "        if (fMissingRate < threshold) :\n",
    "            return pd.DataFrame(columns=x.columns)\n",
    "        print(\"{}, {}, {}, {:.2}\", list(x.concept_name)[0], nConceptPatients, nTotalPatients, fMissingRate)\n",
    "        \n",
    "        temp_df = pd.DataFrame(columns = ['concept_name', 'nConceptPatients', 'nTotalPatients', 'fMissingRate'])\n",
    "        var_temp = {}\n",
    "        var_temp['concept_name'] = list(x.concept_name)[0]\n",
    "        var_temp['nConceptPatients'] = nConceptPatients\n",
    "        var_temp['nTotalPatients'] = nTotalPatients\n",
    "        var_temp['fMissingRate'] = fMissingRate\n",
    "        temp_df = temp_df.append(var_temp, ignore_index=True)\n",
    "        return temp_df\n",
    "\n",
    "    nTotalPatients = len(df.patientunitstayid.unique())\n",
    "    features_df = df.groupby('concept_name').apply(lambda x : filter_with_missing_rate_concept(x, nTotalPatients, threshold)).reset_index(drop=True)\n",
    "    return features_df\n",
    "\n",
    "concat_df.groupby('unittype').apply(lambda x : filter_with_missing_rate(x, nTotalPatients, threshold)).reset_index(drop=True)\n",
    "\n",
    "df.loc[~df['concept_name'].isin(list(features_df.concept_name)), 'concept_name'] = None\n",
    "df['value'] = 1\n",
    "df = pd.pivot_table(data=df, index=['patientunitstayid', 'unittype'], columns='concept_name', values='value').reset_index()\n",
    "df"
   ]
  },
  {
   "cell_type": "code",
   "execution_count": 42,
   "metadata": {},
   "outputs": [],
   "source": [
    "pat_feature_list = []\n",
    "apc_feature_list = []\n",
    "med_feature_list = []\n",
    "lab_feature_list = []\n",
    "adm_feature_list = []\n",
    "for icu in ['Med-Surg ICU','MICU','SICU']:\n",
    "    pat_feature_list.append(set(patient_df.columns))\n",
    "    apc_feature_list.append(set(apachepsvar_df.columns))\n",
    "    med_feature_list.append(set(concat_df.loc[(concat_df['unittype']==icu) & (concat_df['concept_table']=='med')].concept_name.unique()))\n",
    "    lab_feature_list.append(set(concat_df.loc[(concat_df['unittype']==icu) & (concat_df['concept_table']=='lab')].concept_name.unique()))\n",
    "    adm_feature_list.append(set(concat_df.loc[(concat_df['unittype']==icu) & (concat_df['concept_table']=='adm')].concept_name.unique()))"
   ]
  },
  {
   "cell_type": "code",
   "execution_count": 43,
   "metadata": {},
   "outputs": [
    {
     "name": "stdout",
     "output_type": "stream",
     "text": [
      "29 26 1327 158 3759\n",
      "5299\n",
      "29 26 1129 154 1660\n",
      "2998\n",
      "29 26 981 151 1683\n",
      "2870\n"
     ]
    }
   ],
   "source": [
    "\n",
    "for i in range(3):\n",
    "    print(len(pat_feature_list[i]), len(apc_feature_list[i]), len(med_feature_list[i]), len(lab_feature_list[i]), len(adm_feature_list[i]))\n",
    "    print(len(pat_feature_list[i])+ len(apc_feature_list[i])+ len(med_feature_list[i])+ len(lab_feature_list[i])+ len(adm_feature_list[i]))"
   ]
  },
  {
   "cell_type": "code",
   "execution_count": 30,
   "metadata": {},
   "outputs": [],
   "source": [
    "total_set = set(pat_feature_list[1])|set(apc_feature_list[1])|set(med_feature_list[1])|set(lab_feature_list[1])|set(adm_feature_list[1])\n",
    "\n",
    "import pickle\n",
    "with open('micu_set.pickle', 'wb') as f:\n",
    "    pickle.dump(total_set, f, pickle.HIGHEST_PROTOCOL)"
   ]
  },
  {
   "cell_type": "code",
   "execution_count": null,
   "metadata": {},
   "outputs": [],
   "source": [
    "med_features = set(patient_med_df['unitype'])"
   ]
  },
  {
   "cell_type": "code",
   "execution_count": null,
   "metadata": {},
   "outputs": [],
   "source": [
    "medication_df['drughiclseqno'].apply(lambda x : int(x*1000/10000))"
   ]
  },
  {
   "cell_type": "code",
   "execution_count": null,
   "metadata": {},
   "outputs": [],
   "source": []
  },
  {
   "cell_type": "code",
   "execution_count": null,
   "metadata": {},
   "outputs": [],
   "source": [
    "len(medication_df.drughiclseqno.unique()), len(medication_df.drugname.unique())"
   ]
  },
  {
   "cell_type": "code",
   "execution_count": null,
   "metadata": {},
   "outputs": [],
   "source": [
    "patient_med_df = pd.merge(patient_df[['patientunitstayid', 'unittype']], medication_df[['patientunitstayid', 'drugname']], left_on='patientunitstayid', right_on='patientunitstayid', how='inner')\n",
    "patient_med_df"
   ]
  },
  {
   "cell_type": "code",
   "execution_count": null,
   "metadata": {},
   "outputs": [],
   "source": [
    "def filter_with_missing_rate_concept(x, nPatientInTotal, threshold):\n",
    "    nPatientInConceptId = len(x.patientunitstayid.unique())\n",
    "    fEpsilon = 1.0e-08 # devide by zero\n",
    "    fMissingRate = nPatientInConceptId / (nPatientInTotal + fEpsilon)\n",
    "    if (fMissingRate < threshold) :\n",
    "        return pd.DataFrame(columns=x.columns)\n",
    "    print(\"{}, {}, {}, {:.2}\", list(x.drugname)[0], nPatientInConceptId, nPatientInTotal, fMissingRate)\n",
    "    \n",
    "    temp_df = pd.DataFrame(columns = ['drugname', 'nPatientInConceptId', 'nPatientInTotal', 'fMissingRate'])\n",
    "    var_temp = {}\n",
    "    var_temp['drugname'] = list(x.drugname)[0]\n",
    "    var_temp['nPatientInConceptId'] = nPatientInConceptId\n",
    "    var_temp['nPatientInTotal'] = nPatientInTotal\n",
    "    var_temp['fMissingRate'] = fMissingRate\n",
    "    temp_df = temp_df.append(var_temp, ignore_index=True)\n",
    "    return temp_df\n",
    "\n",
    "concept_list = []\n",
    "nPatientInTotal = len(patient_df.patientunitstayid.unique())\n",
    "drugs_df = patient_med_df.groupby('drugname').apply(lambda x : filter_with_missing_rate_concept(x, nPatientInTotal, threshold=0.05)).reset_index(drop=True).head(30)\n",
    "patient_med_df.loc[~patient_med_df['drugname'].isin(list(drugs_df.drugname)), 'drugname'] = None\n",
    "patient_med_df['value'] = 1\n",
    "patient_med_df = pd.pivot_table(data=patient_med_df, index=['patientunitstayid', 'unittype'], columns='drugname', values='value').reset_index()\n",
    "patient_med_df"
   ]
  },
  {
   "cell_type": "code",
   "execution_count": null,
   "metadata": {},
   "outputs": [],
   "source": [
    "def resumetable(df):\n",
    "    df = df.copy().replace(-1, np.NaN)\n",
    "    print(f'data frame shape: {df.shape}')\n",
    "    summary = pd.DataFrame(df.dtypes, columns=['data_type'])\n",
    "    summary = summary.reset_index()\n",
    "    summary = summary.rename(columns={'index': 'feature'})\n",
    "    summary['n_missingvalues'] = df.isnull().sum().values\n",
    "    summary['n_missingrates'] = 1 - df.isnull().sum().values/len(df)\n",
    "    summary['n_eigenvalues'] = df.nunique().values\n",
    "    return summary\n",
    "patient_med_df = patient_med_df[patient_med_df['unittype'].isin(['Med-Surg ICU','MICU','SICU'])]\n",
    "patient_med_summary_df = patient_med_df.groupby('unittype').apply(lambda x : resumetable(x)).reset_index()\n",
    "patient_med_summary_df\n",
    "heatmap_data = patient_med_summary_df[['unittype', 'drugname', 'n_missingrates']].pivot(index='drugname', columns='unittype', values='n_missingrates')\n",
    "len(heatmap_data)\n",
    "import seaborn as sns\n",
    "sns.set(rc = {'figure.figsize':(8,16)})\n",
    "sns.heatmap(data=heatmap_data, annot=True)"
   ]
  },
  {
   "cell_type": "code",
   "execution_count": null,
   "metadata": {},
   "outputs": [],
   "source": [
    "patient_lab_df = pd.merge(patient_df[['patientunitstayid', 'unittype']], lab_df[['patientunitstayid', 'labname', 'labresult']], left_on='patientunitstayid', right_on='patientunitstayid', how='inner')\n",
    "patient_lab_df\n",
    "\n",
    "def filter_with_missing_rate_concept(x, nPatientInTotal, threshold):\n",
    "    nPatientInConceptId = len(x.patientunitstayid.unique())\n",
    "    fEpsilon = 1.0e-08 # devide by zero\n",
    "    fMissingRate = nPatientInConceptId / (nPatientInTotal + fEpsilon)\n",
    "    if (fMissingRate < threshold) :\n",
    "        return pd.DataFrame(columns=x.columns)\n",
    "    print(\"{}, {}, {}, {:.2}\", list(x.labname)[0], nPatientInConceptId, nPatientInTotal, fMissingRate)\n",
    "    \n",
    "    temp_df = pd.DataFrame(columns = ['labname', 'nPatientInConceptId', 'nPatientInTotal', 'fMissingRate'])\n",
    "    var_temp = {}\n",
    "    var_temp['labname'] = list(x.labname)[0]\n",
    "    var_temp['nPatientInConceptId'] = nPatientInConceptId\n",
    "    var_temp['nPatientInTotal'] = nPatientInTotal\n",
    "    var_temp['fMissingRate'] = fMissingRate\n",
    "    temp_df = temp_df.append(var_temp, ignore_index=True)\n",
    "    return temp_df\n",
    "\n",
    "concept_list = []\n",
    "nPatientInTotal = len(patient_df.patientunitstayid.unique())\n",
    "labs_df = patient_lab_df.groupby('labname').apply(lambda x : filter_with_missing_rate_concept(x, nPatientInTotal, threshold=0.5)).reset_index(drop=True).head(30)\n",
    "patient_lab_df.loc[~patient_lab_df['labname'].isin(list(labs_df.labname)), 'labname'] = None\n",
    "# patient_lab_df['labresult'] = 1\n",
    "patient_lab_df = pd.pivot_table(data=patient_lab_df, index=['patientunitstayid', 'unittype'], columns='labname', values='labresult').reset_index()\n",
    "patient_lab_df"
   ]
  },
  {
   "cell_type": "code",
   "execution_count": null,
   "metadata": {},
   "outputs": [],
   "source": [
    "patient_lab_summary_df"
   ]
  },
  {
   "cell_type": "code",
   "execution_count": null,
   "metadata": {},
   "outputs": [],
   "source": [
    "def resumetable(df):\n",
    "    df = df.copy().replace(-1, np.NaN)\n",
    "    print(f'data frame shape: {df.shape}')\n",
    "    summary = pd.DataFrame(df.dtypes, columns=['data_type'])\n",
    "    summary = summary.reset_index()\n",
    "    summary = summary.rename(columns={'index': 'feature'})\n",
    "    summary['n_missingvalues'] = df.isnull().sum().values\n",
    "    summary['n_missingrates'] = 1 - df.isnull().sum().values/len(df)\n",
    "    summary['n_eigenvalues'] = df.nunique().values\n",
    "    return summary\n",
    "patient_lab_df = patient_lab_df[patient_lab_df['unittype'].isin(['Med-Surg ICU','MICU','SICU'])]\n",
    "patient_lab_summary_df = patient_lab_df.groupby('unittype').apply(lambda x : resumetable(x)).reset_index()\n",
    "patient_lab_summary_df\n",
    "heatmap_data = patient_lab_summary_df.pivot(index='labname', columns='unittype', values='n_missingrates')\n",
    "len(heatmap_data)\n",
    "import seaborn as sns\n",
    "sns.set(rc = {'figure.figsize':(8,16)})\n",
    "sns.heatmap(data=heatmap_data, annot=True)"
   ]
  },
  {
   "cell_type": "code",
   "execution_count": null,
   "metadata": {},
   "outputs": [],
   "source": [
    "def resumetable(df):\n",
    "    df = df.copy().replace(-1, np.NaN)\n",
    "    print(f'data frame shape: {df.shape}')\n",
    "    summary = pd.DataFrame(df.dtypes, columns=['data_type'])\n",
    "    summary = summary.reset_index()\n",
    "    summary = summary.rename(columns={'index': 'feature'})\n",
    "    summary['n_missingvalues'] = df.isnull().sum().values\n",
    "    summary['n_missingrates'] = df.isnull().sum().values/len(df)\n",
    "    summary['n_eigenvalues'] = df.nunique().values\n",
    "    return summary\n",
    "\n",
    "summary = resumetable(patient_apc_df)\n",
    "summary\n",
    "\n",
    "def plot_missing_data_visualization(df, cols):\n",
    "    import numpy as np\n",
    "    import missingno as msno\n",
    "    df = df.copy().replace(-1, np.NaN)  # -1 > np.NaN\n",
    "    nCols = len(cols)\n",
    "    msno.bar(df=df.loc[:,cols], figsize=(30, 20))\n",
    "    # msno.matrix(df=df.loc[:,cols], figsize=(30, 6))\n",
    "    \n",
    "plot_missing_data_visualization(patient_apc_df, patient_apc_df.columns)"
   ]
  },
  {
   "cell_type": "code",
   "execution_count": null,
   "metadata": {},
   "outputs": [],
   "source": [
    "summary['n_missingrates']"
   ]
  },
  {
   "cell_type": "code",
   "execution_count": null,
   "metadata": {},
   "outputs": [],
   "source": [
    "patient_apc_df = patient_apc_df[patient_apc_df['unittype'].isin(['Med-Surg ICU','MICU','SICU'])]"
   ]
  },
  {
   "cell_type": "code",
   "execution_count": null,
   "metadata": {},
   "outputs": [],
   "source": [
    "patient_apc_summary_df = patient_apc_df.groupby('unittype').apply(lambda x : resumetable(x)).reset_index()\n",
    "patient_apc_summary_df"
   ]
  },
  {
   "cell_type": "code",
   "execution_count": null,
   "metadata": {},
   "outputs": [],
   "source": [
    "heatmap_data = patient_apc_summary_df[['unittype', 'feature', 'n_missingrates']].pivot(index='feature', columns='unittype', values='n_missingrates')\n",
    "len(heatmap_data)"
   ]
  },
  {
   "cell_type": "code",
   "execution_count": null,
   "metadata": {},
   "outputs": [],
   "source": [
    "import seaborn as sns\n",
    "sns.set(rc = {'figure.figsize':(8,16)})\n",
    "sns.heatmap(data=heatmap_data, annot=True)"
   ]
  },
  {
   "cell_type": "code",
   "execution_count": null,
   "metadata": {},
   "outputs": [],
   "source": [
    "patient_apc_df['unittype'].unique()\n",
    "\n",
    "MSICU_patient_df = patient_apc_df[patient_apc_df['unittype']=='Med-Surg ICU']\n",
    "MICU_patient_df = patient_apc_df[patient_apc_df['unittype']=='MICU']\n",
    "SICU_patient_df = patient_apc_df[patient_apc_df['unittype']=='SICU']\n"
   ]
  },
  {
   "cell_type": "code",
   "execution_count": null,
   "metadata": {},
   "outputs": [],
   "source": [
    "def resumetable(df):\n",
    "    print(f'data frame shape: {df.shape}')\n",
    "    summary = pd.DataFrame(df.dtypes, columns=['data_type'])\n",
    "    summary = summary.reset_index()\n",
    "    summary = summary.rename(columns={'index': 'feature'})\n",
    "    summary['n_missingvalues'] = df.isnull().sum().values\n",
    "    print(len(df))\n",
    "    summary['n_missingrates'] = df.isnull().sum().values/len(df)*100\n",
    "    summary['n_eigenvalues'] = df.nunique().values\n",
    "    return summary"
   ]
  },
  {
   "cell_type": "code",
   "execution_count": null,
   "metadata": {},
   "outputs": [],
   "source": [
    "summary = resumetable(patient_apc_df)\n",
    "summary\n",
    "plt.plot(summary.n_missingrates)\n"
   ]
  },
  {
   "cell_type": "code",
   "execution_count": null,
   "metadata": {},
   "outputs": [],
   "source": [
    "MSICU_patient_df"
   ]
  },
  {
   "cell_type": "code",
   "execution_count": null,
   "metadata": {},
   "outputs": [],
   "source": [
    "sql_query = '''\n",
    "SELECT P.patientunitstayid, patienthealthsystemstayid, hospitaldischargestatus, gender, age, admissionheight, admissionweight, heartrate, meanbp, temperature, respiratoryrate\n",
    "FROM eicu.PATIENT P\n",
    "LEFT JOIN eicu.APACHEAPSVAR A\n",
    "ON P.patientunitstayid = A.patientunitstayid\n",
    "WHERE P.unittype = 'MICU'\n",
    "'''\n",
    "patient_df = pd.read_sql(sql_query, con=conn)"
   ]
  },
  {
   "cell_type": "code",
   "execution_count": null,
   "metadata": {},
   "outputs": [],
   "source": [
    "patient_df"
   ]
  }
 ],
 "metadata": {
  "kernelspec": {
   "display_name": "Python 3.7.13 ('.venv': venv)",
   "language": "python",
   "name": "python3"
  },
  "language_info": {
   "codemirror_mode": {
    "name": "ipython",
    "version": 3
   },
   "file_extension": ".py",
   "mimetype": "text/x-python",
   "name": "python",
   "nbconvert_exporter": "python",
   "pygments_lexer": "ipython3",
   "version": "3.7.13"
  },
  "orig_nbformat": 4,
  "vscode": {
   "interpreter": {
    "hash": "7a70575124c56363ee4395af7154470fd9f328d39a4e988d33b1913ba4770f62"
   }
  }
 },
 "nbformat": 4,
 "nbformat_minor": 2
}
