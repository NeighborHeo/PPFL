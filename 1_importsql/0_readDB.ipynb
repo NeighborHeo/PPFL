{
 "cells": [
  {
   "cell_type": "code",
   "execution_count": null,
   "metadata": {},
   "outputs": [],
   "source": [
    "#!/usr/bin/env python\n",
    "# coding: utf-8\n",
    "\n",
    "'''\n",
    "import SQL\n",
    "'''\n",
    "\n",
    "# In[ ]:\n",
    "# ** import package **\n",
    "import os\n",
    "import sys\n",
    "import json\n",
    "import pathlib\n",
    "sys.path.append(\"..\")\n",
    "\n",
    "import numpy as np\n",
    "import pandas as pd\n",
    "import matplotlib.pyplot as plt\n",
    "import traceback\n",
    "from tqdm import tqdm\n",
    "from datetime import timedelta\n",
    "from _utils.customlogger import customlogger as CL\n",
    "\n",
    "pd.set_option('display.max_colwidth', -1)  #각 컬럼 width 최대로 \n",
    "pd.set_option('display.max_rows', 50)      # display 50개 까지 "
   ]
  },
  {
   "cell_type": "code",
   "execution_count": null,
   "metadata": {},
   "outputs": [],
   "source": [
    "# In[ ]:\n",
    "# ** loading config **\n",
    "with open('./../{}'.format(\"config.json\")) as file:\n",
    "    cfg = json.load(file)"
   ]
  },
  {
   "cell_type": "code",
   "execution_count": null,
   "metadata": {},
   "outputs": [],
   "source": [
    "# In[ ]:\n",
    "# ** loading info **\n",
    "current_dir = pathlib.Path.cwd()\n",
    "parent_dir = current_dir.parent\n",
    "curr_file_name = os.path.splitext(os.path.basename(os.path.abspath('')))[0]\n",
    "data_dir = pathlib.Path('{}/data/'.format(parent_dir))\n",
    "pathlib.Path.mkdir(data_dir, mode=0o777, parents=True, exist_ok=True)"
   ]
  },
  {
   "cell_type": "code",
   "execution_count": null,
   "metadata": {},
   "outputs": [],
   "source": [
    "# In[ ]:\n",
    "# **create Logger**\n",
    "log = CL(\"custom_logger\")\n",
    "pathlib.Path.mkdir(pathlib.Path('{}/_log/'.format(parent_dir)), mode=0o777, parents=True, exist_ok=True)\n",
    "log = log.create_logger(file_name=\"../_log/{}.log\".format(curr_file_name), mode=\"a\", level=\"DEBUG\")  \n",
    "log.debug('start {}'.format(curr_file_name))"
   ]
  },
  {
   "cell_type": "code",
   "execution_count": null,
   "metadata": {},
   "outputs": [],
   "source": [
    "# In[ ]:\n",
    "# ** connection DataBase **\n",
    "if (cfg[\"dbms\"]==\"postgresql\"):\n",
    "    db_cfg = cfg[\"postgresql\"]\n",
    "    import psycopg2 as pg\n",
    "    conn = pg.connect(host=db_cfg['@server'], user=db_cfg['@user'], password=db_cfg['@password'], port=db_cfg['@port'], dbname=db_cfg['@database']) \n",
    "    log.debug(\"postgresql connect\")\n",
    "    \n",
    "elif (cfg[\"dbms\"]==\"mssql\"):\n",
    "    db_cfg = cfg[\"mssql\"]\n",
    "    import pymssql\n",
    "    conn= pymssql.connect(server=db_cfg['@server'], user=db_cfg['@user'], password=db_cfg['@password'], port=db_cfg['@port'], database=db_cfg['@database'], as_dict=False)\n",
    "    log.debug(\"mssql connect\")\n",
    "    \n",
    "elif (cfg[\"dbms\"]==\"mysql\"):\n",
    "    db_cfg = cfg[\"mysql\"]\n",
    "    import pymysql\n",
    "    conn= pymysql.connect(host=db_cfg['@server'], user=db_cfg['@user'], password=db_cfg['@password'], port=db_cfg['@port'], db=db_cfg['@database'], charset='utf8', autocommit=True)\n",
    "    log.debug(\"mysql connect\")\n",
    "    \n",
    "else:\n",
    "    log.warning(\"set config.json - sql - dbms : mssql or postgresql\")"
   ]
  },
  {
   "cell_type": "code",
   "execution_count": null,
   "metadata": {},
   "outputs": [],
   "source": [
    "apachepsvar_df = pd.read_sql(\"SELECT * FROM eicu.APACHEAPSVAR\", con=conn)\n",
    "patient_df = pd.read_sql(\"SELECT * FROM eicu.PATIENT\", con=conn)\n",
    "microlab_df = pd.read_sql(\"SELECT * FROM eicu.MICROLAB\", con=conn)\n",
    "lab_df = pd.read_sql(\"SELECT * FROM eicu.LAB\", con=conn)\n",
    "medication_df = pd.read_sql(\"SELECT * FROM eicu.MEDICATION\", con=conn)\n",
    "admissiondrug_df = pd.read_sql(\"SELECT * FROM eicu.ADMISSIONDRUG\", con=conn)"
   ]
  },
  {
   "cell_type": "code",
   "execution_count": null,
   "metadata": {},
   "outputs": [],
   "source": [
    "apachepsvar_df.to_feather('apachepsvar_df.feather')\n",
    "patient_df.to_feather('patient_df.feather')\n",
    "microlab_df.to_feather('microlab_df.feather')\n",
    "lab_df.to_feather('lab_df.feather')\n",
    "medication_df.to_feather('medication_df.feather')\n",
    "admissiondrug_df.to_feather('admissiondrug_df.feather')"
   ]
  },
  {
   "cell_type": "code",
   "execution_count": null,
   "metadata": {},
   "outputs": [],
   "source": [
    "apachepsvar_df = pd.read_feather('apachepsvar_df.feather')\n",
    "patient_df = pd.read_feather('patient_df.feather')\n",
    "microlab_df = pd.read_feather('microlab_df.feather')\n",
    "lab_df = pd.read_feather('lab_df.feather')\n",
    "medication_df = pd.read_feather('medication_df.feather')\n",
    "admissiondrug_df = pd.read_feather('admissiondrug_df.feather')"
   ]
  },
  {
   "cell_type": "code",
   "execution_count": null,
   "metadata": {},
   "outputs": [],
   "source": [
    "patient_apc_df = pd.merge(patient_df, apachepsvar_df, left_on='patientunitstayid', right_on='patientunitstayid', how='inner')\n",
    "patient_med_df = pd.merge(patient_df[['patientunitstayid', 'unittype']], medication_df[['patientunitstayid', 'drugname']], left_on='patientunitstayid', right_on='patientunitstayid', how='inner')\n",
    "patient_lab_df = pd.merge(patient_df[['patientunitstayid', 'unittype']], lab_df[['patientunitstayid', 'labname', 'labresult']], left_on='patientunitstayid', right_on='patientunitstayid', how='inner')\n",
    "patient_adm_df = pd.merge(patient_df[['patientunitstayid', 'unittype']], admissiondrug_df[['patientunitstayid', 'drugname']], left_on='patientunitstayid', right_on='patientunitstayid', how='inner')"
   ]
  },
  {
   "cell_type": "code",
   "execution_count": null,
   "metadata": {},
   "outputs": [],
   "source": [
    "patient_med_df.rename(columns={'drugname':'concept_name'}, inplace=True)\n",
    "patient_med_df['concept_value'] = 1\n",
    "patient_med_df['concept_table'] = 'med'\n",
    "patient_lab_df.rename(columns={'labname':'concept_name','labresult':'concept_value'}, inplace=True)\n",
    "patient_lab_df['concept_table'] = 'lab'\n",
    "patient_adm_df.rename(columns={'drugname':'concept_name'}, inplace=True)\n",
    "patient_adm_df['concept_value'] = 1\n",
    "patient_adm_df['concept_table'] = 'adm'"
   ]
  },
  {
   "cell_type": "code",
   "execution_count": null,
   "metadata": {},
   "outputs": [],
   "source": [
    "concat_df = pd.concat([patient_med_df, patient_lab_df, patient_adm_df], axis=0, ignore_index=True)"
   ]
  },
  {
   "cell_type": "code",
   "execution_count": null,
   "metadata": {},
   "outputs": [],
   "source": [
    "apache_cols_df = pd.DataFrame(apachepsvar_df.columns, columns=['concept_name'])\n",
    "apache_cols_df['concept_table'] = 'apc'\n",
    "patient_cols_df = pd.DataFrame(patient_df.columns, columns=['concept_name'])\n",
    "patient_cols_df['concept_table'] = 'pat'\n",
    "remains_cols_df = concat_df[['concept_name', 'concept_table']]\n",
    "concat_cols_df = pd.concat([patient_cols_df, apache_cols_df, remains_cols_df], axis=0).drop_duplicates().reset_index(drop=True)\n",
    "concat_cols_df.to_feather('{}/all_cols_df.feather'.format(data_dir))\n"
   ]
  },
  {
   "cell_type": "code",
   "execution_count": null,
   "metadata": {},
   "outputs": [],
   "source": [
    "def filter_with_missing_rate(df, threshold):\n",
    "    def filter_with_missing_rate_concept(x, nTotalPatients, threshold):\n",
    "        nConceptPatients = len(x.patientunitstayid.unique())\n",
    "        fEpsilon = 1.0e-08 # devide by zero\n",
    "        fMissingRate = nConceptPatients / (nTotalPatients + fEpsilon)\n",
    "        # if (fMissingRate < threshold) :\n",
    "        #     return pd.DataFrame(columns=x.columns)\n",
    "        # print(\"{}, {}, {}, {:.2}\", list(x.concept_name)[0], nConceptPatients, nTotalPatients, fMissingRate)\n",
    "        temp_df = pd.DataFrame()\n",
    "        var_temp = {}\n",
    "        var_temp['concept_name'] = list(x.concept_name)[0]\n",
    "        var_temp['concept_table'] = list(x.concept_table)[0]\n",
    "        var_temp['unittype'] = list(x.unittype)[0]\n",
    "        var_temp['nConceptPatients'] = nConceptPatients\n",
    "        var_temp['nTotalPatients'] = nTotalPatients\n",
    "        var_temp['fMissingRate'] = fMissingRate\n",
    "        temp_df = temp_df.append(var_temp, ignore_index=True)\n",
    "        return temp_df\n",
    "\n",
    "    nTotalPatients = len(df.patientunitstayid.unique())\n",
    "    features_df = df.groupby('concept_name').apply(lambda x : filter_with_missing_rate_concept(x, nTotalPatients, threshold)).reset_index(drop=True)\n",
    "    return features_df\n",
    "\n",
    "feature_df = concat_df.groupby('unittype').apply(lambda x : filter_with_missing_rate(x, threshold=0.05)).reset_index(drop=True)\n"
   ]
  },
  {
   "cell_type": "code",
   "execution_count": null,
   "metadata": {},
   "outputs": [],
   "source": [
    "feature_df = feature_df.loc[feature_df['unittype'].isin(['MICU', 'SICU'])]\n",
    "print( len(feature_df.loc[feature_df['unittype']=='MICU']), len(feature_df.loc[feature_df['unittype']=='SICU']) )\n",
    "feature_df2 = pd.pivot_table(data=feature_df, index=['concept_name', 'concept_table'], columns='unittype', values='fMissingRate', fill_value=0).reset_index()\n",
    "feature_df2['gap'] = abs(feature_df2['MICU'] - feature_df2['SICU'])\n",
    "feature_df2.sort_values('gap')\n",
    "feature_df2.to_csv('feature_df2.csv')"
   ]
  },
  {
   "cell_type": "code",
   "execution_count": null,
   "metadata": {},
   "outputs": [],
   "source": [
    "filter = {'med': 0.05, 'adm':0.05, 'lab':0.7}\n",
    "\n",
    "index_list = []\n",
    "def filterwithmissingrate(df, unittype, filter):\n",
    "    unit_df = pd.DataFrame()\n",
    "    for tName in filter:\n",
    "        print('concept_table == \\'{}\\' and {} > {}'.format(tName, unittype, filter[tName]))\n",
    "        feature_table_df = df.query('concept_table == \\'{}\\' and {} > {}'.format(tName, unittype, filter[tName]))\n",
    "        if not feature_table_df.empty:\n",
    "            unit_df = pd.concat([unit_df, feature_table_df], axis=0)\n",
    "    return unit_df\n",
    "   \n",
    "MICU_feature = filterwithmissingrate(feature_df2, 'MICU', filter) \n",
    "SICU_feature = filterwithmissingrate(feature_df2, 'SICU', filter)\n"
   ]
  },
  {
   "cell_type": "code",
   "execution_count": null,
   "metadata": {},
   "outputs": [],
   "source": [
    "len(SICU_feature.concept_name.unique()), len(MICU_feature.concept_name.unique())"
   ]
  },
  {
   "cell_type": "code",
   "execution_count": null,
   "metadata": {},
   "outputs": [],
   "source": [
    "concat_df[concat_df['concept_table']=='lab']"
   ]
  },
  {
   "cell_type": "code",
   "execution_count": null,
   "metadata": {},
   "outputs": [],
   "source": [
    "SICU_sub_df = concat_df.loc[(concat_df['unittype']=='SICU') & (concat_df['concept_name'].isin(SICU_feature.concept_name.unique()))]\n",
    "SICU_sub_df = pd.pivot_table(data=SICU_sub_df, index=['patientunitstayid', 'unittype'], columns='concept_name', values='concept_value').reset_index()\n",
    "SICU_sub_df"
   ]
  },
  {
   "cell_type": "code",
   "execution_count": null,
   "metadata": {},
   "outputs": [],
   "source": [
    "MICU_sub_df = concat_df.loc[(concat_df['unittype']=='MICU') & (concat_df['concept_name'].isin(MICU_feature.concept_name.unique()))]\n",
    "MICU_sub_df = pd.pivot_table(data=MICU_sub_df, index=['patientunitstayid', 'unittype'], columns='concept_name', values='concept_value').reset_index()\n",
    "MICU_sub_df"
   ]
  },
  {
   "cell_type": "code",
   "execution_count": null,
   "metadata": {},
   "outputs": [],
   "source": [
    "cols = list(MICU_sub_df.columns)\n",
    "cols"
   ]
  },
  {
   "cell_type": "code",
   "execution_count": null,
   "metadata": {},
   "outputs": [],
   "source": [
    "SICU_sub_df.columns"
   ]
  },
  {
   "cell_type": "code",
   "execution_count": null,
   "metadata": {},
   "outputs": [],
   "source": [
    "def getDuplicatedColumns(df1, df2):\n",
    "    dup_col_list = []\n",
    "    for col1 in df1.columns:\n",
    "        for col2 in df2.columns:\n",
    "            if col1.lower() == col2.lower() and col1 != 'patientunitstayid':\n",
    "                dup_col_list.append(col2)\n",
    "    return dup_col_list\n",
    "                \n",
    "dup_col_list = getDuplicatedColumns(SICU_main_df, SICU_sub_df)"
   ]
  },
  {
   "cell_type": "code",
   "execution_count": null,
   "metadata": {},
   "outputs": [],
   "source": [
    "# main : hosptial + apache\n",
    "# sub : lab, admission_drug, med\n",
    "SICU_main_df = patient_apc_df.loc[patient_apc_df['unittype']=='SICU']\n",
    "MICU_main_df = patient_apc_df.loc[patient_apc_df['unittype']=='MICU']\n",
    "\n",
    "MICU_sub_df.drop(columns=getDuplicatedColumns(MICU_main_df, MICU_sub_df), axis=1, inplace=True)\n",
    "SICU_sub_df.drop(columns=getDuplicatedColumns(SICU_main_df, SICU_sub_df), axis=1, inplace=True)\n",
    "\n",
    "SICU_df = pd.merge(SICU_main_df, SICU_sub_df, left_on='patientunitstayid', right_on='patientunitstayid', how='inner')\n",
    "MICU_df = pd.merge(MICU_main_df, MICU_sub_df, left_on='patientunitstayid', right_on='patientunitstayid', how='inner')"
   ]
  },
  {
   "cell_type": "code",
   "execution_count": null,
   "metadata": {},
   "outputs": [],
   "source": [
    "len(SICU_df.columns), len(MICU_df.columns)"
   ]
  },
  {
   "cell_type": "code",
   "execution_count": null,
   "metadata": {},
   "outputs": [],
   "source": [
    "SICU_df.to_feather('{}/SICU_df.feather'.format(data_dir))\n",
    "MICU_df.to_feather('{}/MICU_df.feather'.format(data_dir))"
   ]
  },
  {
   "cell_type": "code",
   "execution_count": null,
   "metadata": {},
   "outputs": [],
   "source": []
  }
 ],
 "metadata": {
  "kernelspec": {
   "display_name": "Python 3.7.13 ('.venv': venv)",
   "language": "python",
   "name": "python3"
  },
  "language_info": {
   "codemirror_mode": {
    "name": "ipython",
    "version": 3
   },
   "file_extension": ".py",
   "mimetype": "text/x-python",
   "name": "python",
   "nbconvert_exporter": "python",
   "pygments_lexer": "ipython3",
   "version": "3.7.13"
  },
  "orig_nbformat": 4,
  "vscode": {
   "interpreter": {
    "hash": "7a70575124c56363ee4395af7154470fd9f328d39a4e988d33b1913ba4770f62"
   }
  }
 },
 "nbformat": 4,
 "nbformat_minor": 2
}
