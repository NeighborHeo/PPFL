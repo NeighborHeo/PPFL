{
 "cells": [
  {
   "cell_type": "code",
   "execution_count": 4,
   "metadata": {},
   "outputs": [],
   "source": [
    "import pandas as pd\n",
    "import pickle\n",
    "from pathlib import Path\n",
    "import yaml\n",
    "from collections import OrderedDict\n",
    "\n",
    "\n",
    "PROJECT_DIR = Path('/home/wonseok/PPFL/4_ppfl_simulation/')\n",
    "DATA_DIR = PROJECT_DIR.joinpath('data')\n",
    "\n",
    "icus = ['hicu','micu','sicu'] # map hicu -> client_1, micu -> client_2, sicu -> client_3\n",
    "clients = ['client_1','client_2','client_3']\n",
    "\n",
    "with open('/home/wonseok/PPFL/4_ppfl_simulation/feature_book.yaml') as f:\n",
    "    feature_book = yaml.load(f, Loader=yaml.FullLoader)"
   ]
  },
  {
   "cell_type": "code",
   "execution_count": 7,
   "metadata": {},
   "outputs": [],
   "source": [
    "def read_feature(key):\n",
    "    return feature_book[key]\n",
    "\n",
    "def concatXandY(X, Y):\n",
    "    return pd.concat([X,Y],axis=1)\n",
    "\n",
    "def load_data(icu):\n",
    "    with open(f'/home/wonseok/PPFL/4_ppfl_simulation/{icu}/dataset.pkl','rb') as f:\n",
    "        dataset = pickle.load(f)\n",
    "    return dataset\n",
    "\n",
    "def read_data(dataset, train_type, features):\n",
    "    X = dataset[train_type+'_X'][features]\n",
    "    Y = dataset[train_type+'_Y']\n",
    "    concatXY = concatXandY(X, Y)\n",
    "    return concatXY\n"
   ]
  },
  {
   "cell_type": "code",
   "execution_count": 23,
   "metadata": {},
   "outputs": [],
   "source": [
    "def create_icu(feature_type, train_type):\n",
    "    '''\n",
    "    create common dataset in a ordered-dict structure. \n",
    "    but what becomes a key\n",
    "    feature_type : common, vertical, full\n",
    "    train_type : train, valid, test\n",
    "    '''\n",
    "    data_path = Path('/home/wonseok/PPFL/4_ppfl_simulation/Personalized-Progressive-Federated-Learning/data')\n",
    "    client_featureType_type = OrderedDict()\n",
    "    \n",
    "    if feature_type == 'common':\n",
    "        features = [feature_book['common_features']]*3\n",
    "    elif feature_type == 'vertical':\n",
    "        feature_type = 'specific'\n",
    "        features = [feature_book['hicu_specific']] + [feature_book['micu_specific']] + [feature_book['sicu_specific']] \n",
    "    else :\n",
    "        features = [feature_book['common_features'] + feature_book['hicu_specific']] +\\\n",
    "                   [feature_book['common_features'] + feature_book['micu_specific']] +\\\n",
    "                   [feature_book['common_features'] + feature_book['sicu_specific']] \n",
    "        \n",
    "    for idx, icu in enumerate(icus):\n",
    "        dataset = load_data(icu)\n",
    "        XY = read_data(dataset=dataset, train_type=train_type, features=features[idx])\n",
    "        client_featureType_type[icu] = XY\n",
    "    \n",
    "    # save OrderedDict\n",
    "    with open(data_path.joinpath(f'icu_client_{feature_type}_{train_type}.pkl'),'wb') as f:\n",
    "        pickle.dump(client_featureType_type, f)\n",
    "    "
   ]
  },
  {
   "cell_type": "code",
   "execution_count": 24,
   "metadata": {},
   "outputs": [],
   "source": [
    "from itertools import product\n",
    "\n",
    "train_types = ['train','valid','test']\n",
    "feature_types = ['common','vertical','full']\n",
    "\n",
    "all_types = list(product(train_types, feature_types))"
   ]
  },
  {
   "cell_type": "code",
   "execution_count": 27,
   "metadata": {},
   "outputs": [],
   "source": [
    "for train_type, feature_type in all_types:\n",
    "    create_icu(feature_type=feature_type, train_type=train_type)"
   ]
  },
  {
   "cell_type": "code",
   "execution_count": null,
   "metadata": {},
   "outputs": [],
   "source": []
  }
 ],
 "metadata": {
  "kernelspec": {
   "display_name": "Python 3.8.12 64-bit ('ppfl')",
   "language": "python",
   "name": "python3"
  },
  "language_info": {
   "codemirror_mode": {
    "name": "ipython",
    "version": 3
   },
   "file_extension": ".py",
   "mimetype": "text/x-python",
   "name": "python",
   "nbconvert_exporter": "python",
   "pygments_lexer": "ipython3",
   "version": "3.8.12"
  },
  "orig_nbformat": 4,
  "vscode": {
   "interpreter": {
    "hash": "9f0bcb10ed7c048eeef4b0abb28240731ec4d5902a7bc8be2db920014648c087"
   }
  }
 },
 "nbformat": 4,
 "nbformat_minor": 2
}
